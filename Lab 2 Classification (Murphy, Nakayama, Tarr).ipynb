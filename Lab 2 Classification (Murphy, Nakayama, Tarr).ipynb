{
 "cells": [
  {
   "cell_type": "markdown",
   "metadata": {},
   "source": [
    "## Lab 2: Classification\n",
    "#### Danny Murphy, Kerry Nakayama, Brandon Tarr\n",
    "\n",
    "#### Introduction\n",
    "We've followed a very natural data evolution from Lab 1 where we first started reducing the dataset to a more manageable and relevant size by focusing on bookings only and a five class (rather than 100 class) classification task. In the mini lab we fine-tuned our imputation and started experimenting with logistic regression and SVM classification given the attributes that Expedia provided as well as a handful we created ourselves. Neither of these methods were particularly accurate (~36%) at classifying the targeted hotel cluster so now we turn to three new algorithms to attempt to raise our classification accuracy: AdaBoostClassifier, ExtraTreesClassifier, and RandomForestClassifier. These will also be used to attempt a regression exercise on booking_window (one of our added features) to see if we can predict when a user's ideal search window might be for more targeted solicitation.\n",
    "#### Sources:\n",
    "We make extensive use of the code provided for the Grand Poobah Classification Notebook for the class and code from Sebastian Raschka book \"Python Machine Learning\"."
   ]
  },
  {
   "cell_type": "markdown",
   "metadata": {},
   "source": [
    "### Data Preparation\n",
    "We will be conducting one classification task on the hotel cluster which has been the objective of this Kaggle dataset from the outset. This class variable is already in proper format as an integer representation of the five top hotel clusters [0]. All the other features are also in proper format, primarily as either integer representations of categorical variables [1:16] or as numeric continuous variables in either float or integer format [17:25].\n",
    "\n",
    "#### New Variables\n",
    "As a reminder, these variables were all added by our team to either contextualize the dates that Kaggle provided or to add more continuous variables in the hopes of adding more explanatory power to the model:\n",
    "\n",
    "ci_week (check in week) = week of the year (1-52)\n",
    "srch_week (week that the user's search was conducted) = week of the year (1-52)\n",
    "family_size = adults + children\n",
    "booking_window = check in date - search date (number of days booked prior to check in)\n",
    "length_of_stay = check out date - check in date"
   ]
  },
  {
   "cell_type": "code",
   "execution_count": 101,
   "metadata": {
    "collapsed": true
   },
   "outputs": [],
   "source": [
    "#Import required packages\n",
    "import pandas as pd\n",
    "import numpy as np\n",
    "import seaborn as sns\n",
    "import matplotlib.pyplot as plt\n",
    "%matplotlib inline"
   ]
  },
  {
   "cell_type": "code",
   "execution_count": 134,
   "metadata": {
    "collapsed": false
   },
   "outputs": [],
   "source": [
    "# Reduced, imputed, file.\n",
    "# Data can be downloaded here: https://www.dropbox.com/s/2vcqmorh3n3cm21/train_booked_top5_imputed.csv?dl=0\n",
    "train_booked_df = pd.read_csv('data/train_booked_top5_imputed.csv')\n",
    "train_booked_df.drop(['Unnamed: 0'], axis=1, inplace=True)"
   ]
  },
  {
   "cell_type": "markdown",
   "metadata": {},
   "source": [
    "#### Dimensionality Reduction\n",
    "We've attempted both logistic regression and SVM methods of classification with limited success using all the data that made sense to use without really doing much formal analysis of the utility of each feature. Now we'll spend some time investigating which features we might be able to eliminate to make our models more simple using Sequential Backward Selection (SBS) and random forest techniques.\n",
    "#### Sequential Backward Selection\n",
    "Sebastian Raschka's book provides this SBS algorithm code:"
   ]
  },
  {
   "cell_type": "code",
   "execution_count": 103,
   "metadata": {
    "collapsed": true
   },
   "outputs": [],
   "source": [
    "from sklearn.base import clone\n",
    "from itertools import combinations\n",
    "from sklearn.cross_validation import train_test_split\n",
    "from sklearn.metrics import accuracy_score\n",
    "\n",
    "class SBS():\n",
    "    def __init__(self, estimator, k_features, scoring=accuracy_score,\n",
    "                 test_size=0.25, random_state=1):\n",
    "        self.scoring = scoring\n",
    "        self.estimator = clone(estimator)\n",
    "        self.k_features = k_features\n",
    "        self.test_size = test_size\n",
    "        self.random_state = random_state\n",
    "\n",
    "    def fit(self, X, y):\n",
    "        \n",
    "        X_train, X_test, y_train, y_test = \\\n",
    "            train_test_split(X, y, test_size=self.test_size,\n",
    "                             random_state=self.random_state)\n",
    "\n",
    "        dim = X_train.shape[1]\n",
    "        self.indices_ = tuple(range(dim))\n",
    "        self.subsets_ = [self.indices_]\n",
    "        score = self._calc_score(X_train, y_train, \n",
    "                                 X_test, y_test, self.indices_)\n",
    "        self.scores_ = [score]\n",
    "\n",
    "        while dim > self.k_features:\n",
    "            scores = []\n",
    "            subsets = []\n",
    "\n",
    "            for p in combinations(self.indices_, r=dim - 1):\n",
    "                score = self._calc_score(X_train, y_train, \n",
    "                                         X_test, y_test, p)\n",
    "                scores.append(score)\n",
    "                subsets.append(p)\n",
    "\n",
    "            best = np.argmax(scores)\n",
    "            self.indices_ = subsets[best]\n",
    "            self.subsets_.append(self.indices_)\n",
    "            dim -= 1\n",
    "\n",
    "            self.scores_.append(scores[best])\n",
    "        self.k_score_ = self.scores_[-1]\n",
    "\n",
    "        return self\n",
    "\n",
    "    def transform(self, X):\n",
    "        return X[:, self.indices_]\n",
    "\n",
    "    def _calc_score(self, X_train, y_train, X_test, y_test, indices):\n",
    "        self.estimator.fit(X_train[:, indices], y_train)\n",
    "        y_pred = self.estimator.predict(X_test[:, indices])\n",
    "        score = self.scoring(y_test, y_pred)\n",
    "        return score"
   ]
  },
  {
   "cell_type": "markdown",
   "metadata": {},
   "source": [
    "#### Sequential Backward Selection (Continued)\n",
    "We are using the Logistic Regression model that we determined from the Mini-Lab to be most efficient while acheiving a consistent level of accuracy. While we understand that this model didn't produce good results, the purpose here is to see if we can't maintain the same level of accuracy with fewer features. To improve speed and performance we will be sampling down to around 30,000 records using a stratified shuffle split."
   ]
  },
  {
   "cell_type": "code",
   "execution_count": 104,
   "metadata": {
    "collapsed": false
   },
   "outputs": [
    {
     "data": {
      "image/png": "[encoded data removed]",
      "text/plain": [
       "<matplotlib.figure.Figure at 0x116eb4750>"
      ]
     },
     "metadata": {},
     "output_type": "display_data"
    }
   ],
   "source": [
    "from sklearn.cross_validation import StratifiedShuffleSplit\n",
    "from sklearn.linear_model import LogisticRegression\n",
    "from sklearn import metrics as mt\n",
    "from sklearn.preprocessing import StandardScaler\n",
    "\n",
    "# we want to predict the X and y data as follows:\n",
    "# We've put the target as the first attribute to easily assign:\n",
    "X, y = train_booked_df.iloc[:, 1:].values, train_booked_df.iloc[:, 0].values\n",
    "\n",
    "# we are sampling way down to improve performance (~30,000 records):\n",
    "sss = StratifiedShuffleSplit(y, 1, test_size=0.015, train_size=0.06, random_state=0)\n",
    "\n",
    "stdsc = StandardScaler()\n",
    "\n",
    "for train_index, test_index in sss:\n",
    "    X_train_std, X_test_std = stdsc.fit_transform(X[train_index]), stdsc.fit_transform(X[test_index])\n",
    "    y_train, y_test = y[train_index], y[test_index]\n",
    "    \n",
    "lr = LogisticRegression(penalty='l2', C=0.05, class_weight=None, solver='lbfgs')\n",
    "\n",
    "# selecting features\n",
    "sbs_lr = SBS(lr, k_features=1)\n",
    "sbs_lr.fit(X_train_std, y_train)\n",
    "\n",
    "# plotting performance of feature subsets\n",
    "k_feat = [len(k) for k in sbs_lr.subsets_]\n",
    "\n",
    "plt.plot(k_feat, sbs_lr.scores_, marker='o')\n",
    "plt.ylim([0.3, 0.4])\n",
    "plt.ylabel('Accuracy')\n",
    "plt.xlabel('Number of features')\n",
    "plt.grid()\n",
    "plt.tight_layout()\n",
    "# plt.savefig('./sbs.png', dpi=300)\n",
    "plt.show()"
   ]
  },
  {
   "cell_type": "code",
   "execution_count": 105,
   "metadata": {
    "collapsed": false
   },
   "outputs": [
    {
     "name": "stdout",
     "output_type": "stream",
     "text": [
      "index) , [accuracy] , [feature count] , [feature removed (SBS)] \n",
      " 0) , 0.361432058584 , 25 , booking_window\n",
      " 1) , 0.361757526444 , 24 , srch_children_cnt\n",
      " 2) , 0.361920260374 , 23 , srch_adults_cnt\n",
      " 3) , 0.362082994304 , 22 , hotel_market\n",
      " 4) , 0.363222131814 , 21 , user_location_region\n",
      " 5) , 0.364361269325 , 20 , site_name\n",
      " 6) , 0.365337672905 , 19 , is_mobile\n",
      " 7) , 0.365663140765 , 18 , is_booking\n",
      " 8) , 0.365663140765 , 17 , cnt\n",
      " 9) , 0.365500406835 , 16 , srch_rm_cnt\n",
      "10) , 0.364849471115 , 15 , srch_destination_id\n",
      "11) , 0.365012205045 , 14 , is_package\n",
      "12) , 0.365500406835 , 13 , user_location_city\n",
      "13) , 0.365825874695 , 12 , srch_destination_type_id\n",
      "14) , 0.365825874695 , 11 , posa_continent\n",
      "15) , 0.365663140765 , 10 , srch_week\n",
      "16) , 0.365825874695 , 9 , user_location_country\n",
      "17) , 0.365337672905 , 8 , family_size\n",
      "18) , 0.364686737185 , 7 , channel\n",
      "19) , 0.365012205045 , 6 , length_of_stay\n",
      "20) , 0.365012205045 , 5 , ci_week\n",
      "21) , 0.363873067535 , 4 , user_id\n",
      "22) , 0.363547599675 , 3 , orig_destination_distance\n",
      "23) , 0.364361269325 , 2 , hotel_country\n",
      "24) , 0.340276647681 , 1 , hotel_continent\n"
     ]
    }
   ],
   "source": [
    "# Display individual accuracy scores for each feature subset:\n",
    "from sets import Set\n",
    "\n",
    "print(\"index) , [accuracy] , [feature count] , [feature removed (SBS)] \")\n",
    "\n",
    "for f in range(X.shape[1]):\n",
    "    set1 = Set(sbs_lr.subsets_[f])\n",
    "    if f < X.shape[1] - 1:\n",
    "        set2 = Set(sbs_lr.subsets_[f + 1])\n",
    "        k = set1.difference(set2).pop()\n",
    "    else:\n",
    "        k = sbs_lr.subsets_[f]\n",
    "   \n",
    "    print(\"%2d) , %-*s , %i , %s\" % (f, 10, \n",
    "                            sbs_lr.scores_[f], \n",
    "                            k_feat[f],\n",
    "                            train_booked_df.columns[1:][k]))"
   ]
  },
  {
   "cell_type": "markdown",
   "metadata": {},
   "source": [
    "#### Important Features (LR):\n",
    "We can see in the graph and the scores that a consistent level of accuracy (~36.5%) can be acheived with either 2 or 20 features with only slightly perceivable dips in between. The most important feature labels are hotel continenent and country followed by user id and distance between user and hotel. In the context of poor accuracy scores using logistic regression this tells us that this model is making a reasonable guess just by looking at the hotel continent with marginal gains made from the remainder of the features (pretty much any of them). We don't really like this accuracy or the underlying implications of these data. It makes logical sense that is_booking should lend no explanatory power to the model since we've already cleansed out all non-bookings. However, this feature is not the least important, that distinction going to hotel market instead. Looking at these features in this way helps us understand why logistic regression isn't the best model. Since we'll be moving away from logistic regression in the remainder of this lab, let's apply the same logic for feature importance but use random forests instead."
   ]
  },
  {
   "cell_type": "code",
   "execution_count": 108,
   "metadata": {
    "collapsed": false
   },
   "outputs": [
    {
     "data": {
      "image/png": "[encoded data removed]",
      "text/plain": [
       "<matplotlib.figure.Figure at 0x109c51050>"
      ]
     },
     "metadata": {},
     "output_type": "display_data"
    },
    {
     "data": {
      "image/png": "[encoded data removed]",
      "text/plain": [
       "<matplotlib.figure.Figure at 0x1173dfa90>"
      ]
     },
     "metadata": {},
     "output_type": "display_data"
    }
   ],
   "source": [
    "from sklearn.ensemble import RandomForestClassifier\n",
    "from sklearn.ensemble import AdaBoostClassifier\n",
    "from sklearn.ensemble import ExtraTreesClassifier\n",
    "from sklearn.tree import DecisionTreeClassifier\n",
    "\n",
    "# we are sampling way down to improve performance (~12,000 records):\n",
    "sss = StratifiedShuffleSplit(y, 1, test_size=0.006, train_size=0.024, random_state=0)\n",
    "\n",
    "dt_stump = DecisionTreeClassifier(criterion='entropy', max_depth=None, random_state=0)\n",
    "\n",
    "stdsc = StandardScaler()\n",
    "\n",
    "for train_index, test_index in sss:\n",
    "    X_train_std, X_test_std = stdsc.fit_transform(X[train_index]), stdsc.fit_transform(X[test_index])\n",
    "    y_train, y_test = y[train_index], y[test_index]\n",
    "\n",
    "# Reduce # of estimators for efficiency during feature selection exercises.\n",
    "rf = RandomForestClassifier(n_estimators=10, random_state=0, n_jobs=-1)\n",
    "\n",
    "# selecting features\n",
    "sbs_rf = SBS(rf, k_features=1)\n",
    "sbs_rf.fit(X_train_std, y_train)\n",
    "\n",
    "# plotting performance of feature subsets\n",
    "k_feat_rf = [len(k) for k in sbs_rf.subsets_]\n",
    "\n",
    "# Reduce # of estimators for efficiency during feature selection exercises.\n",
    "ada = AdaBoostClassifier(base_estimator=dt_stump,algorithm=\"SAMME.R\",\n",
    "                       learning_rate=0.4, n_estimators=10)\n",
    "\n",
    "# selecting features\n",
    "sbs_ada = SBS(ada, k_features=1)\n",
    "sbs_ada.fit(X_train_std, y_train)\n",
    "\n",
    "# plotting performance of feature subsets\n",
    "k_feat_ada = [len(k) for k in sbs_ada.subsets_]\n",
    "\n",
    "plt.plot(k_feat_rf, sbs_rf.scores_, marker='o')\n",
    "plt.title('Random Forests SBS')\n",
    "plt.ylim([0.33, 0.45])\n",
    "plt.ylabel('Accuracy')\n",
    "plt.xlabel('Number of features')\n",
    "plt.grid()\n",
    "plt.tight_layout()\n",
    "# plt.savefig('./sbs.png', dpi=300)\n",
    "plt.show()\n",
    "\n",
    "plt.plot(k_feat_ada, sbs_ada.scores_, marker='o')\n",
    "plt.title('Adaboost SBS')\n",
    "plt.ylim([0.33, 0.45])\n",
    "plt.ylabel('Accuracy')\n",
    "plt.xlabel('Number of features')\n",
    "plt.grid()\n",
    "plt.tight_layout()\n",
    "# plt.savefig('./sbs.png', dpi=300)\n",
    "plt.show()"
   ]
  },
  {
   "cell_type": "code",
   "execution_count": 120,
   "metadata": {
    "collapsed": false
   },
   "outputs": [
    {
     "name": "stdout",
     "output_type": "stream",
     "text": [
      "Random Forests SBS Feature Importances:\n",
      "\n",
      "index) , [accuracy] , [feature count] , [feature removed (SBS)] \n",
      " 0) , 0.328315703824 , 25 , cnt\n",
      " 1) , 0.343775427177 , 24 , hotel_continent\n",
      " 2) , 0.345402766477 , 23 , srch_children_cnt\n",
      " 3) , 0.33360455655 , 22 , booking_window\n",
      " 4) , 0.3360455655 , 21 , channel\n",
      " 5) , 0.338486574451 , 20 , user_id\n",
      " 6) , 0.338079739626 , 19 , is_booking\n",
      " 7) , 0.340927583401 , 18 , user_location_country\n",
      " 8) , 0.340520748576 , 17 , site_name\n",
      " 9) , 0.357200976404 , 16 , ci_week\n",
      "10) , 0.343368592352 , 15 , srch_adults_cnt\n",
      "11) , 0.339707078926 , 14 , srch_rm_cnt\n",
      "12) , 0.349471114727 , 13 , srch_week\n",
      "13) , 0.349877949552 , 12 , srch_destination_type_id\n",
      "14) , 0.348657445077 , 11 , user_location_city\n",
      "15) , 0.358828315704 , 10 , user_location_region\n",
      "16) , 0.361676159479 , 9 , length_of_stay\n",
      "17) , 0.354759967453 , 8 , orig_destination_distance\n",
      "18) , 0.377135882832 , 7 , family_size\n",
      "19) , 0.386899918633 , 6 , is_mobile\n",
      "20) , 0.404800650936 , 5 , posa_continent\n",
      "21) , 0.412530512612 , 4 , is_package\n",
      "22) , 0.414971521562 , 3 , srch_destination_id\n",
      "23) , 0.416598860862 , 2 , hotel_country\n",
      "24) , 0.414971521562 , 1 , hotel_market\n"
     ]
    }
   ],
   "source": [
    "# Display individual accuracy scores for each feature subset:\n",
    "from sets import Set\n",
    "\n",
    "print(\"Random Forests SBS Feature Importances:\")\n",
    "print\n",
    "print(\"index) , [accuracy] , [feature count] , [feature removed (SBS)] \")\n",
    "\n",
    "for f in range(X.shape[1]):\n",
    "    set1 = Set(sbs_rf.subsets_[f])\n",
    "    if f < X.shape[1] - 1:\n",
    "        set2 = Set(sbs_rf.subsets_[f + 1])\n",
    "        k = set1.difference(set2).pop()\n",
    "    else:\n",
    "        k = sbs_rf.subsets_[f]\n",
    "   \n",
    "    print(\"%2d) , %-*s , %i , %s\" % (f, 10, \n",
    "                            sbs_rf.scores_[f], \n",
    "                            k_feat[f],\n",
    "                            train_booked_df.columns[1:][k]))"
   ]
  },
  {
   "cell_type": "code",
   "execution_count": 121,
   "metadata": {
    "collapsed": false
   },
   "outputs": [
    {
     "name": "stdout",
     "output_type": "stream",
     "text": [
      "Adaboost SBS Feature Importances:\n",
      "\n",
      "index) , [accuracy] , [feature count] , [feature removed (SBS)] \n",
      " 0) , 0.328722538649 , 25 , user_id\n",
      " 1) , 0.338079739626 , 24 , user_location_city\n",
      " 2) , 0.345402766477 , 23 , ci_week\n",
      " 3) , 0.353946297803 , 22 , is_package\n",
      " 4) , 0.360862489829 , 21 , cnt\n",
      " 5) , 0.360862489829 , 20 , srch_children_cnt\n",
      " 6) , 0.360455655004 , 19 , srch_rm_cnt\n",
      " 7) , 0.354759967453 , 18 , is_booking\n",
      " 8) , 0.351505288853 , 17 , srch_adults_cnt\n",
      " 9) , 0.351505288853 , 16 , user_location_region\n",
      "10) , 0.349877949552 , 15 , family_size\n",
      "11) , 0.353539462978 , 14 , user_location_country\n",
      "12) , 0.358421480879 , 13 , srch_destination_type_id\n",
      "13) , 0.360455655004 , 12 , posa_continent\n",
      "14) , 0.360455655004 , 11 , channel\n",
      "15) , 0.362082994304 , 10 , srch_week\n",
      "16) , 0.360455655004 , 9 , booking_window\n",
      "17) , 0.361269324654 , 8 , hotel_continent\n",
      "18) , 0.373474369406 , 7 , length_of_stay\n",
      "19) , 0.362489829129 , 6 , orig_destination_distance\n",
      "20) , 0.411310008137 , 5 , is_mobile\n",
      "21) , 0.403986981286 , 4 , site_name\n",
      "22) , 0.414564686737 , 3 , srch_destination_id\n",
      "23) , 0.412530512612 , 2 , hotel_country\n",
      "24) , 0.409275834011 , 1 , hotel_market\n"
     ]
    }
   ],
   "source": [
    "# Display individual accuracy scores for each feature subset:\n",
    "print(\"Adaboost SBS Feature Importances:\")\n",
    "print\n",
    "print(\"index) , [accuracy] , [feature count] , [feature removed (SBS)] \")\n",
    "\n",
    "for f in range(X.shape[1]):\n",
    "    set1 = Set(sbs_ada.subsets_[f])\n",
    "    if f < X.shape[1] - 1:\n",
    "        set2 = Set(sbs_ada.subsets_[f + 1])\n",
    "        k = set1.difference(set2).pop()\n",
    "    else:\n",
    "        k = sbs_ada.subsets_[f]\n",
    "   \n",
    "    print(\"%2d) , %-*s , %i , %s\" % (f, 10, \n",
    "                            sbs_ada.scores_[f], \n",
    "                            k_feat[f],\n",
    "                            train_booked_df.columns[1:][k]))"
   ]
  },
  {
   "cell_type": "markdown",
   "metadata": {},
   "source": [
    "#### Important Features (RF):\n",
    "We can see in the graph and the scores that the best accuracy results come from including between 1-4 features. \n",
    "#### Sequential Backward Selection Conclusions:\n",
    "In the context of logistic regression which we're familiar with from the Mini-Lab, it doesn't seem to influence accuracy much beyond using the hotel continent, country, distance between user and hotel, and length of stay. One could even argue that just continent and country are enough although the test fit does improve with four features. Random Forest SBS also settles on 4 feature as important, although they are only sometimes similar to the 4 important features identified with logistic regression. What seems to be clear is that some hotel location feature (continent, country, market) are important. Since SBS results bounce around through several iterations we want to explore built-in functions in the Random Forest algorithm before deciding to exclude variables.\n",
    "#### Random Forest feature selection:\n",
    "Since we will be using a couple of variations of random forest algorithms in our classification task let's see what this algorithm's feature_importances function determines to have explanatory power:"
   ]
  },
  {
   "cell_type": "code",
   "execution_count": 114,
   "metadata": {
    "collapsed": false
   },
   "outputs": [
    {
     "name": "stdout",
     "output_type": "stream",
     "text": [
      " 1) hotel_market                   0.107868\n",
      " 2) srch_destination_id            0.102026\n",
      " 3) orig_destination_distance      0.097856\n",
      " 4) user_id                        0.093783\n",
      " 5) user_location_city             0.087022\n",
      " 6) srch_week                      0.074021\n",
      " 7) ci_week                        0.072787\n",
      " 8) booking_window                 0.071516\n",
      " 9) user_location_region           0.065946\n",
      "10) channel                        0.031236\n",
      "11) length_of_stay                 0.029644\n",
      "12) hotel_country                  0.025501\n",
      "13) hotel_continent                0.023168\n",
      "14) family_size                    0.020228\n",
      "15) srch_adults_cnt                0.016330\n",
      "16) srch_destination_type_id       0.016299\n",
      "17) user_location_country          0.013750\n",
      "18) site_name                      0.011180\n",
      "19) srch_children_cnt              0.011137\n",
      "20) is_mobile                      0.009880\n",
      "21) srch_rm_cnt                    0.008252\n",
      "22) posa_continent                 0.004415\n",
      "23) is_package                     0.004202\n",
      "24) cnt                            0.001951\n",
      "25) is_booking                     0.000000\n"
     ]
    },
    {
     "data": {
      "image/png": "[encoded data removed]",
      "text/plain": [
       "<matplotlib.figure.Figure at 0x120664cd0>"
      ]
     },
     "metadata": {},
     "output_type": "display_data"
    }
   ],
   "source": [
    "feat_labels = train_booked_df.columns[1:]\n",
    "\n",
    "rf = RandomForestClassifier(n_estimators=50, random_state=0, n_jobs=-1)\n",
    "\n",
    "rf.fit(X, y)\n",
    "importances = rf.feature_importances_\n",
    "\n",
    "indices = np.argsort(importances)[::-1]\n",
    "\n",
    "for f in range(X.shape[1]):\n",
    "    print(\"%2d) %-*s %f\" % (f + 1, 30, \n",
    "                            feat_labels[indices[f]], \n",
    "                            importances[indices[f]]))\n",
    "\n",
    "plt.title('Random Forest Feature Importances')\n",
    "plt.bar(range(X.shape[1]), \n",
    "        importances[indices],\n",
    "        color='lightblue', \n",
    "        align='center')\n",
    "\n",
    "plt.xticks(range(X.shape[1]), \n",
    "           feat_labels[indices], rotation=90)\n",
    "plt.xlim([-1, X.shape[1]])\n",
    "plt.tight_layout()\n",
    "#plt.savefig('./random_forest.png', dpi=300)\n",
    "plt.show()"
   ]
  },
  {
   "cell_type": "markdown",
   "metadata": {},
   "source": [
    "#### Random Forest Feature Importances:\n",
    "This interpretation makes more sense from the outset. First we're directed toward our litmus test variable is_booking which turns out to have no explanatory power as we would expect. Good start. We end up with 9 features that make up 77.3% of our feature importance in our model. We'll save this feature subset in a new dataframe randomforest_df1."
   ]
  },
  {
   "cell_type": "code",
   "execution_count": 113,
   "metadata": {
    "collapsed": false
   },
   "outputs": [
    {
     "name": "stdout",
     "output_type": "stream",
     "text": [
      " 1) hotel_market                   0.108969\n",
      " 2) user_location_city             0.106455\n",
      " 3) user_location_region           0.100877\n",
      " 4) booking_window                 0.084865\n",
      " 5) ci_week                        0.083917\n",
      " 6) srch_destination_id            0.080048\n",
      " 7) srch_week                      0.078335\n",
      " 8) user_id                        0.070559\n",
      " 9) user_location_country          0.052413\n",
      "10) hotel_continent                0.043815\n",
      "11) length_of_stay                 0.042488\n",
      "12) orig_destination_distance      0.030235\n",
      "13) hotel_country                  0.029709\n",
      "14) channel                        0.016506\n",
      "15) family_size                    0.015698\n",
      "16) posa_continent                 0.011293\n",
      "17) srch_children_cnt              0.010749\n",
      "18) srch_destination_type_id       0.010269\n",
      "19) site_name                      0.008092\n",
      "20) srch_adults_cnt                0.005828\n",
      "21) srch_rm_cnt                    0.005000\n",
      "22) is_mobile                      0.002285\n",
      "23) is_package                     0.001314\n",
      "24) cnt                            0.000280\n",
      "25) is_booking                     0.000000\n"
     ]
    },
    {
     "data": {
      "image/png": "[encoded data removed]",
      "text/plain": [
       "<matplotlib.figure.Figure at 0x1174eba50>"
      ]
     },
     "metadata": {},
     "output_type": "display_data"
    }
   ],
   "source": [
    "feat_labels = train_booked_df.columns[1:]\n",
    "\n",
    "\n",
    "ada = AdaBoostClassifier(base_estimator=dt_stump,algorithm=\"SAMME.R\",\n",
    "                       learning_rate=0.4, n_estimators=10)\n",
    "\n",
    "ada.fit(X, y)\n",
    "importances = ada.feature_importances_\n",
    "\n",
    "indices = np.argsort(importances)[::-1]\n",
    "\n",
    "for f in range(X.shape[1]):\n",
    "    print(\"%2d) %-*s %f\" % (f + 1, 30, \n",
    "                            feat_labels[indices[f]], \n",
    "                            importances[indices[f]]))\n",
    "\n",
    "plt.title('Adaboost Feature Importances')\n",
    "plt.bar(range(X.shape[1]), \n",
    "        importances[indices],\n",
    "        color='lightblue', \n",
    "        align='center')\n",
    "\n",
    "plt.xticks(range(X.shape[1]), \n",
    "           feat_labels[indices], rotation=90)\n",
    "plt.xlim([-1, X.shape[1]])\n",
    "plt.tight_layout()\n",
    "#plt.savefig('./ada.png', dpi=300)\n",
    "plt.show()"
   ]
  },
  {
   "cell_type": "code",
   "execution_count": 135,
   "metadata": {
    "collapsed": true
   },
   "outputs": [],
   "source": [
    "# Both Random Forest and Adaboost show is_booking and cnt to be unimportant.\n",
    "train_booked_df.drop(['is_booking','cnt'], axis=1, inplace=True)"
   ]
  },
  {
   "cell_type": "markdown",
   "metadata": {},
   "source": [
    "#### Feature Selection Conclusions:\n",
    "We've been able to learn a lot about how different features impact our models in general, and which have specific impacts to each individual algorithm. We now take these findings and create a variety of feature subset dataframes that we can continue to experiment with throughout the rest of this analysis:\n",
    "#### Random Forest Dataframes:"
   ]
  },
  {
   "cell_type": "code",
   "execution_count": 136,
   "metadata": {
    "collapsed": false
   },
   "outputs": [],
   "source": [
    "# Create reduced df based on most important features from the random forest important features function:\n",
    "randomforest_df1 = train_booked_df[['hotel_cluster','hotel_market','srch_destination_id','orig_destination_distance',\n",
    "                            'user_id','user_location_city','srch_week','ci_week','booking_window',\n",
    "                            'user_location_region']]"
   ]
  },
  {
   "cell_type": "markdown",
   "metadata": {},
   "source": [
    "Finally, let's create a hybrid feature subset composed of the 4 features from SBS and the feature importances using random forest with a threshold of >0.8%."
   ]
  },
  {
   "cell_type": "code",
   "execution_count": 137,
   "metadata": {
    "collapsed": true
   },
   "outputs": [],
   "source": [
    "# These features yielded the best performance in SBS:\n",
    "randomforest_df2 = train_booked_df[['hotel_cluster','hotel_market','srch_destination_id','orig_destination_distance',\n",
    "                            'user_id','user_location_city','hotel_continent','hotel_country']]"
   ]
  },
  {
   "cell_type": "markdown",
   "metadata": {},
   "source": [
    "#### Adaboost Dataframes:"
   ]
  },
  {
   "cell_type": "code",
   "execution_count": 138,
   "metadata": {
    "collapsed": true
   },
   "outputs": [],
   "source": [
    "# Create reduced df based on important features:\n",
    "adaboost_df1 = train_booked_df[['hotel_market','user_location_city','user_location_region','booking_window','ci_week',\n",
    "                                    'srch_destination_id','srch_week','user_id','user_location_country',\n",
    "                                    'hotel_continent','length_of_stay','orig_destination_distance','hotel_country']]"
   ]
  },
  {
   "cell_type": "markdown",
   "metadata": {},
   "source": [
    "### Modeling and Evaluation\n",
    "#### Evaluation Metrics\n",
    "For our evaluation metric we are using the accuracy in order to help us decide which is the best model to choose. We are using a classification model distinguish which features will build the best model for picking the correct cluster.  Since the clusters are masked we do not care to actually classify each of the varibles into one cluster or another but rather did we choose the correct cluster or not.  So in this case the accuracy of our score will let us know how well we created a model that predicted which cluster is choosen.  \n",
    "Many times it is said that accuarcy is not enough that we should also look at false positive and false negatives.  In this scenario it is most important to us to get a model that is most accurate.  Presicison and recall would give us the true positves divided by the false positves and true postives divided by the false negative respectively however in this model of choosing the hotel cluster it does not hurt us like it might in a cancer study of giving someone a false postive.  In order to win the kaggle competition we are trying to find the model that best predicts the most true postives which is ultimately give to us through accuracy. \n",
    "#### Training/Testing Split Strategy\n",
    "All 3 of the machine learning algorithms we are using are quite computationally expensive on 400,000 records. Based on this fact we are sampling way down to improve performance by taking approximately 40,000 records. We're using stratified shuffle split to easily sub-sample by our class proportions even though we don't really care about the test data since we'll be using stratified k-fold next. We did a series of tests plotted in the following graph which show\n",
    "#### Modeling: Classification Task\n",
    "Once again we are "
   ]
  },
  {
   "cell_type": "code",
   "execution_count": 129,
   "metadata": {
    "collapsed": false
   },
   "outputs": [],
   "source": [
    "# we want to predict the X and y data as follows:\n",
    "# We've put the target as the first attribute to easily assign:\n",
    "X, y = train_booked_df.iloc[:, 1:].values, train_booked_df.iloc[:, 0].values\n",
    "\n",
    "# feature subsets:\n",
    "X1, y1 = randomforest_df1.iloc[:, 1:].values, randomforest_df1.iloc[:, 0].values\n",
    "X2, y2 = randomforest_df2.iloc[:, 1:].values, randomforest_df2.iloc[:, 0].values\n",
    "\n",
    "# This takes a stratified sample of 10% of our total dataset:\n",
    "cv_object = StratifiedShuffleSplit(y, n_iter=1, test_size=0.001, train_size=0.099)\n",
    "cv_object1 = StratifiedShuffleSplit(y1, n_iter=1, test_size=0.001, train_size=0.099)\n",
    "cv_object2 = StratifiedShuffleSplit(y2, n_iter=1, test_size=0.001, train_size=0.099)\n",
    "\n",
    "stdsc = StandardScaler()\n",
    "  \n",
    "# Now we\n",
    "for train_index, test_index in cv_object:\n",
    "    X_train_std, X_test_std = stdsc.fit_transform(X[train_index]), stdsc.fit_transform(X[test_index])\n",
    "    y_train, y_test = y[train_index], y[test_index]\n",
    "    \n",
    "for train_index, test_index in cv_object1:\n",
    "    X_train_std1, X_test_std1 = stdsc.fit_transform(X1[train_index]), stdsc.fit_transform(X1[test_index])\n",
    "    y_train1, y_test1 = y1[train_index], y1[test_index]\n",
    "    \n",
    "for train_index, test_index in cv_object2:\n",
    "    X_train_std2, X_test_std2 = stdsc.fit_transform(X2[train_index]), stdsc.fit_transform(X2[test_index])\n",
    "    y_train2, y_test2 = y2[train_index], y2[test_index]"
   ]
  },
  {
   "cell_type": "markdown",
   "metadata": {},
   "source": [
    "#### Parameter optimization\n",
    "This section documents the trial and error that helped us arrive at an optimized model for random forests:"
   ]
  },
  {
   "cell_type": "code",
   "execution_count": 127,
   "metadata": {
    "collapsed": false
   },
   "outputs": [
    {
     "name": "stdout",
     "output_type": "stream",
     "text": [
      "Accuracy 0.448198176185\n"
     ]
    }
   ],
   "source": [
    "from sklearn.cross_validation import StratifiedKFold\n",
    "\n",
    "# create variables we are more familiar with\n",
    "X, y = X_train_std, y_train\n",
    "yhat = np.zeros(y.shape) # we will fill this with predictions\n",
    "\n",
    "# create cross validation iterator\n",
    "cv = StratifiedKFold(y, n_folds=10)\n",
    "\n",
    "# The following code documents my experimentation with several different random forest parameters:\n",
    "# The Accuracy for each parameter combination is listed below each instance.\n",
    "\n",
    "#clf = RandomForestClassifier(max_depth=5, n_estimators=50)\n",
    "# Accuracy 0.371072319202\n",
    "\n",
    "# clf = RandomForestClassifier(max_depth=10, n_estimators=50)\n",
    "# Accuracy 0.368578553616\n",
    "\n",
    "# clf = RandomForestClassifier(max_depth=25, n_estimators=50)\n",
    "# Accuracy 0.35710723192\n",
    "\n",
    "# clf = RandomForestClassifier(max_depth=50, n_estimators=50)\n",
    "# Accuracy 0.346882793017\n",
    "\n",
    "# clf = RandomForestClassifier(max_depth=5, n_estimators=50)\n",
    "# Accuracy 0.372817955112\n",
    "\n",
    "# clf = RandomForestClassifier(max_depth=5, n_estimators=5)\n",
    "# Accuracy 0.366583541147\n",
    "\n",
    "#clf = RandomForestClassifier(max_depth=5, n_estimators=10)\n",
    "# Accuracy 0.375546739904\n",
    "\n",
    "#clf = RandomForestClassifier(max_depth=5, n_estimators=25)\n",
    "# Accuracy 0.374984117365\n",
    "\n",
    "# clf = RandomForestClassifier(max_depth=5, n_estimators=10, n_jobs=-1, oob_score=True)\n",
    "# Accuracy 0.378170418226\n",
    "\n",
    "# clf = RandomForestClassifier(max_depth=5, n_estimators=10, n_jobs=-1, oob_score=True, class_weight='balanced')\n",
    "# Accuracy 0.369134420846\n",
    "\n",
    "# clf = RandomForestClassifier(max_depth=20, n_estimators=20, n_jobs=-1, oob_score=True, \n",
    "#                              class_weight='balanced_subsample', min_weight_fraction_leaf=0.1)\n",
    "# Accuracy 0.345447303862\n",
    "\n",
    "# The class_weight balanced_subsample outperforms balanced or the default 'none'\n",
    "# clf = RandomForestClassifier(max_depth=20, n_estimators=20, n_jobs=-1, oob_score=True, \n",
    "#                              class_weight='balanced_subsample')\n",
    "# Accuracy 0.448088219483\n",
    "\n",
    "# clf = RandomForestClassifier(max_depth=20, n_estimators=20, n_jobs=-1, oob_score=True, \n",
    "#                              class_weight='balanced')\n",
    "# Accuracy 0.447785227684\n",
    "\n",
    "\n",
    "# the entropy criteria works slightly better than the default \"gini\".\n",
    "clf = RandomForestClassifier(max_depth=20, n_estimators=20, criterion='entropy', n_jobs=-1, oob_score=True, \n",
    "                             class_weight='balanced_subsample')\n",
    "# Accuracy 0.449588517588\n",
    "\n",
    "# now iterate through and get predictions, saved to the correct row in yhat\n",
    "for train, test in cv:\n",
    "    clf.fit(X[train],y[train])\n",
    "    yhat[test] = clf.predict(X[test])\n",
    "    \n",
    "total_accuracy = mt.accuracy_score(y, yhat)\n",
    "print 'Accuracy', total_accuracy\n"
   ]
  },
  {
   "cell_type": "markdown",
   "metadata": {},
   "source": [
    "#### Model performance after optimization:\n",
    "Just through model parameter changes we've been able to improve our accuracy score by 8% over anything using logistic regression or SVM in the MiniLab, and improve 3-4% over the highest accuracies seen in the feature analysis. But this is on the full dataset. We would expect the feature subsets to perform even better on data containing the most important features.\n",
    "#### Random Forest Important Features:"
   ]
  },
  {
   "cell_type": "code",
   "execution_count": 131,
   "metadata": {
    "collapsed": false
   },
   "outputs": [
    {
     "name": "stdout",
     "output_type": "stream",
     "text": [
      "Accuracy 0.488992112439\n"
     ]
    }
   ],
   "source": [
    "# create variables we are more familiar with\n",
    "X, y = X_train_std1, y_train1\n",
    "\n",
    "yhat = np.zeros(y.shape) # we will fill this with predictions\n",
    "\n",
    "# create cross validation iterator\n",
    "cv = StratifiedKFold(y, n_folds=10)\n",
    "\n",
    "# the entropy criteria works slightly better than the default \"gini\".\n",
    "clf = RandomForestClassifier(max_depth=20, n_estimators=20, criterion='entropy', n_jobs=-1, oob_score=True, \n",
    "                             class_weight='balanced_subsample')\n",
    "\n",
    "# now iterate through and get predictions, saved to the correct row in yhat\n",
    "for train, test in cv:\n",
    "    clf.fit(X[train],y[train])\n",
    "    yhat[test] = clf.predict(X[test])\n",
    "    \n",
    "total_accuracy = mt.accuracy_score(y, yhat)\n",
    "print 'Accuracy', total_accuracy\n"
   ]
  },
  {
   "cell_type": "markdown",
   "metadata": {},
   "source": [
    "By just focusing on the features that make up 77.3% of feature importance based on the random forest feature importance function we've added another 3-4% to our accuracy.\n",
    "#### Random Forest & SBS Important Features:"
   ]
  },
  {
   "cell_type": "code",
   "execution_count": 132,
   "metadata": {
    "collapsed": false
   },
   "outputs": [
    {
     "name": "stdout",
     "output_type": "stream",
     "text": [
      "Accuracy 0.504728138164\n"
     ]
    }
   ],
   "source": [
    "# create variables we are more familiar with\n",
    "X, y = X_train_std2, y_train2\n",
    "\n",
    "yhat = np.zeros(y.shape) # we will fill this with predictions\n",
    "\n",
    "# create cross validation iterator\n",
    "cv = StratifiedKFold(y, n_folds=10)\n",
    "\n",
    "# the entropy criteria works slightly better than the default \"gini\".\n",
    "clf = RandomForestClassifier(max_depth=20, n_estimators=20, criterion='entropy', n_jobs=-1, oob_score=True, \n",
    "                             class_weight='balanced_subsample')\n",
    "\n",
    "# now iterate through and get predictions, saved to the correct row in yhat\n",
    "for train, test in cv:\n",
    "    clf.fit(X[train],y[train])\n",
    "    yhat[test] = clf.predict(X[test])\n",
    "    \n",
    "total_accuracy = mt.accuracy_score(y, yhat)\n",
    "print 'Accuracy', total_accuracy\n"
   ]
  },
  {
   "cell_type": "markdown",
   "metadata": {},
   "source": [
    "#### Analysis: Classification Task"
   ]
  },
  {
   "cell_type": "code",
   "execution_count": 68,
   "metadata": {
    "collapsed": false
   },
   "outputs": [
    {
     "name": "stdout",
     "output_type": "stream",
     "text": [
      "Total Accuracy: 0.447785227684\n",
      "Number of infrequent faces:"
     ]
    },
    {
     "ename": "NameError",
     "evalue": "name 'recall_for_freq_classes' is not defined",
     "output_type": "error",
     "traceback": [
      "\u001b[0;31m---------------------------------------------------------------------------\u001b[0m",
      "\u001b[0;31mNameError\u001b[0m                                 Traceback (most recent call last)",
      "\u001b[0;32m<ipython-input-68-6fd640dbc703>\u001b[0m in \u001b[0;36m<module>\u001b[0;34m()\u001b[0m\n\u001b[1;32m     30\u001b[0m \u001b[0;34m\u001b[0m\u001b[0m\n\u001b[1;32m     31\u001b[0m \u001b[0;32mprint\u001b[0m \u001b[0;34m'Total Accuracy:'\u001b[0m\u001b[0;34m,\u001b[0m\u001b[0mtotal_accuracy\u001b[0m\u001b[0;34m\u001b[0m\u001b[0m\n\u001b[0;32m---> 32\u001b[0;31m \u001b[0;32mprint\u001b[0m \u001b[0;34m'Number of infrequent faces:'\u001b[0m\u001b[0;34m,\u001b[0m\u001b[0mlen\u001b[0m\u001b[0;34m(\u001b[0m\u001b[0mrecall_for_freq_classes\u001b[0m\u001b[0;34m)\u001b[0m\u001b[0;34m,\u001b[0m \u001b[0;34m'with average recall of:'\u001b[0m\u001b[0;34m,\u001b[0m \u001b[0mnp\u001b[0m\u001b[0;34m.\u001b[0m\u001b[0mmean\u001b[0m\u001b[0;34m(\u001b[0m\u001b[0mrecall_for_freq_classes\u001b[0m\u001b[0;34m)\u001b[0m\u001b[0;34m\u001b[0m\u001b[0m\n\u001b[0m\u001b[1;32m     33\u001b[0m \u001b[0;32mprint\u001b[0m \u001b[0;34m'Number of frequent faces:'\u001b[0m\u001b[0;34m,\u001b[0m\u001b[0mlen\u001b[0m\u001b[0;34m(\u001b[0m\u001b[0mprec_for_freq_classes\u001b[0m\u001b[0;34m)\u001b[0m\u001b[0;34m,\u001b[0m \u001b[0;34m'with average precision of:'\u001b[0m\u001b[0;34m,\u001b[0m\u001b[0mnp\u001b[0m\u001b[0;34m.\u001b[0m\u001b[0mmean\u001b[0m\u001b[0;34m(\u001b[0m\u001b[0mprec_for_freq_classes\u001b[0m\u001b[0;34m)\u001b[0m\u001b[0;34m\u001b[0m\u001b[0m\n",
      "\u001b[0;31mNameError\u001b[0m: name 'recall_for_freq_classes' is not defined"
     ]
    }
   ],
   "source": [
    "freq_infreq_threshold = 40\n",
    "\n",
    "# get various measures of performance\n",
    "total_accuracy = mt.accuracy_score(y, yhat)\n",
    "\n",
    "prec_for_freq_classes = []\n",
    "recall_for_infreq_classes = []\n",
    "rec_tot = []\n",
    "prec_tot = []\n",
    "\n",
    "for cls in np.unique(y):\n",
    "    idx = (y==cls) # get classes\n",
    "    ytmp_actual = np.zeros(y.shape) # make binary class problem\n",
    "    ytmp_actual[idx] = 1 # set the instances for this specific class\n",
    "    \n",
    "    ytmp_predicted = np.zeros(y.shape) # binary prediction array\n",
    "    ytmp_predicted[yhat==cls] = 1\n",
    "    \n",
    "    num_in_class = sum(idx)\n",
    "    \n",
    "    rec = mt.recall_score(ytmp_actual, ytmp_predicted)\n",
    "    prec = mt.precision_score(ytmp_actual, ytmp_predicted)\n",
    "    rec_tot.append(rec)\n",
    "    prec_tot.append(prec)\n",
    "    \n",
    "    if num_in_class < freq_infreq_threshold:\n",
    "        recall_for_infreq_classes.append(rec)\n",
    "    elif num_in_class >= freq_infreq_threshold:\n",
    "        prec_for_freq_classes.append(prec)\n",
    "        \n",
    "print 'Total Accuracy:',total_accuracy\n",
    "print 'Number of infrequent faces:',len(recall_for_freq_classes), 'with average recall of:', np.mean(recall_for_freq_classes)\n",
    "print 'Number of frequent faces:',len(prec_for_freq_classes), 'with average precision of:',np.mean(prec_for_freq_classes)"
   ]
  },
  {
   "cell_type": "markdown",
   "metadata": {},
   "source": [
    "#### Statistics and Model Advantages: Classification Task\n",
    "#### Attribute Assessment: Classification Task\n",
    "#### Modeling: Regression Task\n",
    "#### Analysis: Regression Task\n",
    "#### Statistics and Model Advantages: Regression Task\n",
    "#### Attribute Assessment: Regression Task\n",
    "\n",
    "\n",
    "### Deployment\n",
    "\n",
    "### Exceptional Work"
   ]
  },
  {
   "cell_type": "code",
   "execution_count": null,
   "metadata": {
    "collapsed": true
   },
   "outputs": [],
   "source": []
  }
 ],
 "metadata": {
  "kernelspec": {
   "display_name": "Python 2",
   "language": "python",
   "name": "python2"
  },
  "language_info": {
   "codemirror_mode": {
    "name": "ipython",
    "version": 2
   },
   "file_extension": ".py",
   "mimetype": "text/x-python",
   "name": "python",
   "nbconvert_exporter": "python",
   "pygments_lexer": "ipython2",
   "version": "2.7.11"
  }
 },
 "nbformat": 4,
 "nbformat_minor": 0
}
