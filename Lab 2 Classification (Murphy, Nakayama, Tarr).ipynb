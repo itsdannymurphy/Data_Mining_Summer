{
 "cells": [
  {
   "cell_type": "markdown",
   "metadata": {},
   "source": [
    "## Lab 2: Classification\n",
    "#### Danny Murphy, Kerry Nakayama, Brandon Tarr\n",
    "\n",
    "#### Introduction\n",
    "We've followed a very natural data evolution from Lab 1 where we first started reducing the dataset to a more manageable and relevant size by focusing on bookings only and a five class (rather than 100 class) classification task. In the mini lab we fine-tuned our imputation and started experimenting with logistic regression and SVM classification given the attributes that Expedia provided as well as a handful we created ourselves. Neither of these methods were particularly accurate (~36%) at classifying the targeted hotel cluster so now we turn to three new algorithms to attempt to raise our classification accuracy: AdaBoostClassifier, ExtraTreesClassifier, and RandomForestClassifier. These will also be used to attempt a regression exercise on booking_window (one of our added features) to see if we can predict when a user's ideal search window might be for more targeted solicitation.\n",
    "#### Sources:\n",
    "We make extensive use of the code provided for the Grand Poobah Classification Notebook for the class and code from Sebastian Raschka book \"Python Machine Learning\"."
   ]
  },
  {
   "cell_type": "markdown",
   "metadata": {},
   "source": [
    "### Data Preparation\n",
    "We will be conducting one classification task on the hotel cluster which has been the objective of this Kaggle dataset from the outset. This class variable is already in proper format as an integer representation of the five top hotel clusters [0]. All the other features are also in proper format, primarily as either integer representations of categorical variables [1:16] or as numeric continuous variables in either float or integer format [17:25].\n",
    "\n",
    "#### New Variables\n",
    "As a reminder, these variables were all added by our team to either contextualize the dates that Kaggle provided or to add more continuous variables in the hopes of adding more explanatory power to the model:\n",
    "\n",
    "ci_week (check in week) = week of the year (1-52)\n",
    "srch_week (week that the user's search was conducted) = week of the year (1-52)\n",
    "family_size = adults + children\n",
    "booking_window = check in date - search date (number of days booked prior to check in)\n",
    "length_of_stay = check out date - check in date"
   ]
  },
  {
   "cell_type": "code",
   "execution_count": 3,
   "metadata": {
    "collapsed": true
   },
   "outputs": [],
   "source": [
    "#Import required packages\n",
    "import pandas as pd\n",
    "import numpy as np\n",
    "import seaborn as sns\n",
    "import matplotlib.pyplot as plt\n",
    "%matplotlib inline\n"
   ]
  },
  {
   "cell_type": "code",
   "execution_count": 4,
   "metadata": {
    "collapsed": false
   },
   "outputs": [],
   "source": [
    "# Reduced, imputed, file.\n",
    "# Data can be downloaded here: https://www.dropbox.com/s/2vcqmorh3n3cm21/train_booked_top5_imputed.csv?dl=0\n",
    "train_booked_df = pd.read_csv('data/train_booked_top5_imputed.csv')\n",
    "train_booked_df.drop(['Unnamed: 0'], axis=1, inplace=True)"
   ]
  },
  {
   "cell_type": "code",
   "execution_count": 5,
   "metadata": {
    "collapsed": false
   },
   "outputs": [
    {
     "name": "stdout",
     "output_type": "stream",
     "text": [
      "<class 'pandas.core.frame.DataFrame'>\n",
      "RangeIndex: 409662 entries, 0 to 409661\n",
      "Data columns (total 26 columns):\n",
      "hotel_cluster                409662 non-null int64\n",
      "site_name                    409662 non-null int64\n",
      "posa_continent               409662 non-null int64\n",
      "user_location_country        409662 non-null int64\n",
      "user_location_region         409662 non-null int64\n",
      "user_location_city           409662 non-null int64\n",
      "user_id                      409662 non-null int64\n",
      "is_mobile                    409662 non-null int64\n",
      "is_package                   409662 non-null int64\n",
      "channel                      409662 non-null int64\n",
      "srch_destination_id          409662 non-null int64\n",
      "srch_destination_type_id     409662 non-null int64\n",
      "is_booking                   409662 non-null int64\n",
      "hotel_continent              409662 non-null int64\n",
      "hotel_country                409662 non-null int64\n",
      "hotel_market                 409662 non-null int64\n",
      "ci_week                      409662 non-null int64\n",
      "srch_week                    409662 non-null int64\n",
      "orig_destination_distance    409662 non-null float64\n",
      "family_size                  409662 non-null int64\n",
      "srch_adults_cnt              409662 non-null int64\n",
      "srch_children_cnt            409662 non-null int64\n",
      "srch_rm_cnt                  409662 non-null int64\n",
      "length_of_stay               409662 non-null int64\n",
      "booking_window               409662 non-null int64\n",
      "cnt                          409662 non-null int64\n",
      "dtypes: float64(1), int64(25)\n",
      "memory usage: 81.3 MB\n"
     ]
    }
   ],
   "source": [
    "train_booked_df.info()\n"
   ]
  },
  {
   "cell_type": "markdown",
   "metadata": {},
   "source": [
    "#### Dimensionality Reduction\n",
    "We've attempted both logistic regression and SVM methods of classification with limited success using all the data that made sense to use without really doing much formal analysis of the utility of each feature. Now we'll spend some time investigating which features we might be able to eliminate to make our models more simple using Sequential Backward Selection (SBS) and random forest techniques.\n",
    "#### Sequential Backward Selection\n",
    "Sebastian Raschka's book provides this SBS algorithm code:"
   ]
  },
  {
   "cell_type": "code",
   "execution_count": 6,
   "metadata": {
    "collapsed": true
   },
   "outputs": [],
   "source": [
    "from sklearn.base import clone\n",
    "from itertools import combinations\n",
    "from sklearn.cross_validation import train_test_split\n",
    "from sklearn.metrics import accuracy_score\n",
    "\n",
    "class SBS():\n",
    "    def __init__(self, estimator, k_features, scoring=accuracy_score,\n",
    "                 test_size=0.25, random_state=1):\n",
    "        self.scoring = scoring\n",
    "        self.estimator = clone(estimator)\n",
    "        self.k_features = k_features\n",
    "        self.test_size = test_size\n",
    "        self.random_state = random_state\n",
    "\n",
    "    def fit(self, X, y):\n",
    "        \n",
    "        X_train, X_test, y_train, y_test = \\\n",
    "            train_test_split(X, y, test_size=self.test_size,\n",
    "                             random_state=self.random_state)\n",
    "\n",
    "        dim = X_train.shape[1]\n",
    "        self.indices_ = tuple(range(dim))\n",
    "        self.subsets_ = [self.indices_]\n",
    "        score = self._calc_score(X_train, y_train, \n",
    "                                 X_test, y_test, self.indices_)\n",
    "        self.scores_ = [score]\n",
    "\n",
    "        while dim > self.k_features:\n",
    "            scores = []\n",
    "            subsets = []\n",
    "\n",
    "            for p in combinations(self.indices_, r=dim - 1):\n",
    "                score = self._calc_score(X_train, y_train, \n",
    "                                         X_test, y_test, p)\n",
    "                scores.append(score)\n",
    "                subsets.append(p)\n",
    "\n",
    "            best = np.argmax(scores)\n",
    "            self.indices_ = subsets[best]\n",
    "            self.subsets_.append(self.indices_)\n",
    "            dim -= 1\n",
    "\n",
    "            self.scores_.append(scores[best])\n",
    "        self.k_score_ = self.scores_[-1]\n",
    "\n",
    "        return self\n",
    "\n",
    "    def transform(self, X):\n",
    "        return X[:, self.indices_]\n",
    "\n",
    "    def _calc_score(self, X_train, y_train, X_test, y_test, indices):\n",
    "        self.estimator.fit(X_train[:, indices], y_train)\n",
    "        y_pred = self.estimator.predict(X_test[:, indices])\n",
    "        score = self.scoring(y_test, y_pred)\n",
    "        return score"
   ]
  },
  {
   "cell_type": "markdown",
   "metadata": {},
   "source": [
    "#### Sequential Backward Selection (Continued)\n",
    "We are using the Logistic Regression model that we determined from the Mini-Lab to be most efficient while acheiving a consistent level of accuracy. While we understand that this model didn't produce good results, the purpose here is to see if we can't maintain the same level of accuracy with fewer features. To improve speed and performance we will be sampling down to around 30,000 records using a stratified shuffle split."
   ]
  },
  {
   "cell_type": "code",
   "execution_count": 200,
   "metadata": {
    "collapsed": false
   },
   "outputs": [
    {
     "data": {
      "image/png": "[encoded data removed]",
      "text/plain": [
       "<matplotlib.figure.Figure at 0xc7c20b0>"
      ]
     },
     "metadata": {},
     "output_type": "display_data"
    }
   ],
   "source": [
    "from sklearn.cross_validation import StratifiedShuffleSplit\n",
    "from sklearn.linear_model import LogisticRegression\n",
    "from sklearn.ensemble import RandomForestClassifier\n",
    "from sklearn import metrics as mt\n",
    "from sklearn.preprocessing import StandardScaler\n",
    "\n",
    "# we want to predict the X and y data as follows:\n",
    "# We've put the target as the first attribute to easily assign:\n",
    "X, y = train_booked_df.iloc[:, 1:].values, train_booked_df.iloc[:, 0].values\n",
    "\n",
    "# we are sampling way down to improve performance (~30,000 records):\n",
    "sss = StratifiedShuffleSplit(y, 1, test_size=0.015, train_size=0.06, random_state=0)\n",
    "\n",
    "stdsc = StandardScaler()\n",
    "\n",
    "for train_index, test_index in sss:\n",
    "    X_train_std, X_test_std = stdsc.fit_transform(X[train_index]), stdsc.fit_transform(X[test_index])\n",
    "    y_train, y_test = y[train_index], y[test_index]\n",
    "    \n",
    "lr = LogisticRegression(penalty='l2', C=0.05, class_weight=None, solver='lbfgs')\n",
    "\n",
    "# selecting features\n",
    "sbs_lr = SBS(lr, k_features=1)\n",
    "sbs_lr.fit(X_train_std, y_train)\n",
    "\n",
    "# plotting performance of feature subsets\n",
    "k_feat = [len(k) for k in sbs_lr.subsets_]\n",
    "\n",
    "plt.plot(k_feat, sbs_lr.scores_, marker='o')\n",
    "plt.ylim([0.3, 0.4])\n",
    "plt.ylabel('Accuracy')\n",
    "plt.xlabel('Number of features')\n",
    "plt.grid()\n",
    "plt.tight_layout()\n",
    "# plt.savefig('./sbs.png', dpi=300)\n",
    "plt.show()"
   ]
  },
  {
   "cell_type": "code",
   "execution_count": 203,
   "metadata": {
    "collapsed": false
   },
   "outputs": [
    {
     "name": "stdout",
     "output_type": "stream",
     "text": [
      "index) , [accuracy] , [feature count] , [feature removed (SBS)] \n",
      " 0) , 0.361432058584 , 25 , booking_window\n",
      " 1) , 0.361757526444 , 24 , srch_children_cnt\n",
      " 2) , 0.361920260374 , 23 , srch_adults_cnt\n",
      " 3) , 0.362082994304 , 22 , hotel_market\n",
      " 4) , 0.363222131814 , 21 , user_location_region\n",
      " 5) , 0.364361269325 , 20 , site_name\n",
      " 6) , 0.365337672905 , 19 , is_mobile\n",
      " 7) , 0.365663140765 , 18 , is_booking\n",
      " 8) , 0.365663140765 , 17 , cnt\n",
      " 9) , 0.365500406835 , 16 , srch_rm_cnt\n",
      "10) , 0.364849471115 , 15 , srch_destination_id\n",
      "11) , 0.365012205045 , 14 , is_package\n",
      "12) , 0.365500406835 , 13 , user_location_city\n",
      "13) , 0.365825874695 , 12 , srch_destination_type_id\n",
      "14) , 0.365825874695 , 11 , posa_continent\n",
      "15) , 0.365663140765 , 10 , srch_week\n",
      "16) , 0.365825874695 , 9 , user_location_country\n",
      "17) , 0.365337672905 , 8 , family_size\n",
      "18) , 0.364686737185 , 7 , channel\n",
      "19) , 0.365012205045 , 6 , length_of_stay\n",
      "20) , 0.365012205045 , 5 , ci_week\n",
      "21) , 0.363873067535 , 4 , user_id\n",
      "22) , 0.363547599675 , 3 , orig_destination_distance\n",
      "23) , 0.364361269325 , 2 , hotel_country\n",
      "24) , 0.340276647681 , 1 , hotel_continent\n"
     ]
    }
   ],
   "source": [
    "# Display individual accuracy scores for each feature subset:\n",
    "from sets import Set\n",
    "\n",
    "print(\"index) , [accuracy] , [feature count] , [feature removed (SBS)] \")\n",
    "\n",
    "for f in range(X.shape[1]):\n",
    "    set1 = Set(sbs_lr.subsets_[f])\n",
    "    if f < X.shape[1] - 1:\n",
    "        set2 = Set(sbs_lr.subsets_[f + 1])\n",
    "        k = set1.difference(set2).pop()\n",
    "    else:\n",
    "        k = sbs_lr.subsets_[f]\n",
    "   \n",
    "    print(\"%2d) , %-*s , %i , %s\" % (f, 10, \n",
    "                            sbs_lr.scores_[f], \n",
    "                            k_feat[f],\n",
    "                            train_booked_df.columns[1:][k]))"
   ]
  },
  {
   "cell_type": "markdown",
   "metadata": {},
   "source": [
    "#### Important Features (LR):\n",
    "We can see in the graph and the scores that a consistent level of accuracy (~36.5%) can be acheived with either 2 or 20 features with only slightly perceivable dips in between. The most important feature labels are hotel continenent and country followed by user id and distance between user and hotel. In the context of poor accuracy scores using logistic regression this tells us that this model is making a reasonable guess just by looking at the hotel continent with marginal gains made from the remainder of the features (pretty much any of them). We don't really like this accuracy or the underlying implications of these data. It makes logical sense that is_booking should lend no explanatory power to the model since we've already cleansed out all non-bookings. However, this feature is not the least important, that distinction going to hotel market instead. Looking at these features in this way helps us understand why logistic regression isn't the best model. Since we'll be moving away from logistic regression in the remainder of this lab, let's apply the same logic for feature importance but use random forests instead."
   ]
  },
  {
   "cell_type": "code",
   "execution_count": 201,
   "metadata": {
    "collapsed": false
   },
   "outputs": [
    {
     "data": {
      "image/png": "[encoded data removed]",
      "text/plain": [
       "<matplotlib.figure.Figure at 0xc8002b0>"
      ]
     },
     "metadata": {},
     "output_type": "display_data"
    }
   ],
   "source": [
    "# we are sampling way down to improve performance (~12,000 records):\n",
    "sss = StratifiedShuffleSplit(y, 1, test_size=0.006, train_size=0.024, random_state=0)\n",
    "\n",
    "stdsc = StandardScaler()\n",
    "\n",
    "for train_index, test_index in sss:\n",
    "    X_train_std, X_test_std = stdsc.fit_transform(X[train_index]), stdsc.fit_transform(X[test_index])\n",
    "    y_train, y_test = y[train_index], y[test_index]\n",
    "\n",
    "rf = RandomForestClassifier(n_estimators=50, random_state=0, n_jobs=-1)\n",
    "\n",
    "# selecting features\n",
    "sbs_rf = SBS(rf, k_features=1)\n",
    "sbs_rf.fit(X_train_std, y_train)\n",
    "\n",
    "# plotting performance of feature subsets\n",
    "k_feat = [len(k) for k in sbs_rf.subsets_]\n",
    "\n",
    "plt.plot(k_feat, sbs_rf.scores_, marker='o')\n",
    "plt.ylim([0.33, 0.45])\n",
    "plt.ylabel('Accuracy')\n",
    "plt.xlabel('Number of features')\n",
    "plt.grid()\n",
    "plt.tight_layout()\n",
    "# plt.savefig('./sbs.png', dpi=300)\n",
    "plt.show()"
   ]
  },
  {
   "cell_type": "code",
   "execution_count": 202,
   "metadata": {
    "collapsed": false
   },
   "outputs": [
    {
     "name": "stdout",
     "output_type": "stream",
     "text": [
      "index) , [accuracy] , [feature count] , [feature removed (SBS)] \n",
      " 0) , 0.351505288853 , 25 , cnt\n",
      " 1) , 0.365337672905 , 24 , srch_destination_type_id\n",
      " 2) , 0.375101708706 , 23 , srch_adults_cnt\n",
      " 3) , 0.36574450773 , 22 , posa_continent\n",
      " 4) , 0.365337672905 , 21 , family_size\n",
      " 5) , 0.363303498779 , 20 , user_location_country\n",
      " 6) , 0.365337672905 , 19 , length_of_stay\n",
      " 7) , 0.36493083808 , 18 , hotel_continent\n",
      " 8) , 0.372253864931 , 17 , channel\n",
      " 9) , 0.36899918633 , 16 , srch_week\n",
      "10) , 0.36737184703 , 15 , user_id\n",
      "11) , 0.366151342555 , 14 , srch_rm_cnt\n",
      "12) , 0.370626525631 , 13 , is_mobile\n",
      "13) , 0.373067534581 , 12 , user_location_city\n",
      "14) , 0.377949552482 , 11 , is_booking\n",
      "15) , 0.379576891782 , 10 , orig_destination_distance\n",
      "16) , 0.379576891782 , 9 , site_name\n",
      "17) , 0.372660699756 , 8 , ci_week\n",
      "18) , 0.382831570382 , 7 , booking_window\n",
      "19) , 0.384458909683 , 6 , user_location_region\n",
      "20) , 0.396663954434 , 5 , srch_children_cnt\n",
      "21) , 0.414157851912 , 4 , is_package\n",
      "22) , 0.417819365338 , 3 , srch_destination_id\n",
      "23) , 0.416192026037 , 2 , hotel_country\n",
      "24) , 0.414157851912 , 1 , hotel_market\n"
     ]
    }
   ],
   "source": [
    "# Display individual accuracy scores for each feature subset:\n",
    "print(\"index) , [accuracy] , [feature count] , [feature removed (SBS)] \")\n",
    "\n",
    "for f in range(X.shape[1]):\n",
    "    set1 = Set(sbs_rf.subsets_[f])\n",
    "    if f < X.shape[1] - 1:\n",
    "        set2 = Set(sbs_rf.subsets_[f + 1])\n",
    "        k = set1.difference(set2).pop()\n",
    "    else:\n",
    "        k = sbs_rf.subsets_[f]\n",
    "   \n",
    "    print(\"%2d) , %-*s , %i , %s\" % (f, 10, \n",
    "                            sbs_rf.scores_[f], \n",
    "                            k_feat[f],\n",
    "                            train_booked_df.columns[1:][k]))"
   ]
  },
  {
   "cell_type": "markdown",
   "metadata": {},
   "source": [
    "#### Important Features (RF):\n",
    "We can see in the graph and the scores that the best accuracy results come from including between 1-4 features. "
   ]
  },
  {
   "cell_type": "markdown",
   "metadata": {},
   "source": [
    "#### Sequential Backward Selection Conclusions:\n",
    "In the context of logistic regression which we're familiar with from the Mini-Lab, it doesn't seem to influence accuracy much beyond using the hotel continent, country, distance between user and hotel, and length of stay. One could even argue that just continent and country are enough although the test fit does improve with four features. Random Forest SBS also settles on 4 feature as important, although they are not the same 4 features as with logistic regression. What seems to be clear is that some hotel location feature (continent, country, market) are important. Since SBS results bounce around through several iterations we want to explore built-in functions in the Random Forest algorithm before deciding to exclude variables.\n",
    "#### Random Forest feature selection:\n",
    "Since we will be using a couple of variations of random forest algorithms in our classification task let's see what this algorithm's feature_importances function determines to have explanatory power:"
   ]
  },
  {
   "cell_type": "code",
   "execution_count": 190,
   "metadata": {
    "collapsed": false
   },
   "outputs": [
    {
     "name": "stdout",
     "output_type": "stream",
     "text": [
      " 1) hotel_market                   0.101945\n",
      " 2) orig_destination_distance      0.092291\n",
      " 3) srch_destination_id            0.090225\n",
      " 4) user_id                        0.088309\n",
      " 5) user_location_city             0.084437\n",
      " 6) booking_window                 0.072482\n",
      " 7) ci_week                        0.070505\n",
      " 8) srch_week                      0.070179\n",
      " 9) user_location_region           0.069578\n",
      "10) length_of_stay                 0.033349\n",
      "11) channel                        0.030210\n",
      "12) family_size                    0.026629\n",
      "13) srch_destination_type_id       0.026287\n",
      "14) hotel_country                  0.024099\n",
      "15) hotel_continent                0.022566\n",
      "16) srch_adults_cnt                0.021075\n",
      "17) user_location_country          0.016440\n",
      "18) srch_children_cnt              0.014404\n",
      "19) site_name                      0.012548\n",
      "20) is_mobile                      0.010029\n",
      "21) srch_rm_cnt                    0.009013\n",
      "22) is_package                     0.005710\n",
      "23) posa_continent                 0.005691\n",
      "24) cnt                            0.001997\n",
      "25) is_booking                     0.000000\n"
     ]
    },
    {
     "data": {
      "image/png": "[encoded data removed]",
      "text/plain": [
       "<matplotlib.figure.Figure at 0xd8604d0>"
      ]
     },
     "metadata": {},
     "output_type": "display_data"
    }
   ],
   "source": [
    "feat_labels = train_booked_df.columns[1:]\n",
    "\n",
    "forest = RandomForestClassifier(n_estimators=50, random_state=0, n_jobs=-1)\n",
    "\n",
    "forest.fit(X, y)\n",
    "importances = forest.feature_importances_\n",
    "\n",
    "indices = np.argsort(importances)[::-1]\n",
    "\n",
    "for f in range(X.shape[1]):\n",
    "    print(\"%2d) %-*s %f\" % (f + 1, 30, \n",
    "                            feat_labels[indices[f]], \n",
    "                            importances[indices[f]]))\n",
    "\n",
    "plt.title('Feature Importances')\n",
    "plt.bar(range(X.shape[1]), \n",
    "        importances[indices],\n",
    "        color='lightblue', \n",
    "        align='center')\n",
    "\n",
    "plt.xticks(range(X.shape[1]), \n",
    "           feat_labels[indices], rotation=90)\n",
    "plt.xlim([-1, X.shape[1]])\n",
    "plt.tight_layout()\n",
    "#plt.savefig('./random_forest.png', dpi=300)\n",
    "plt.show()"
   ]
  },
  {
   "cell_type": "markdown",
   "metadata": {},
   "source": [
    "#### Random Forest Feature Importances:\n",
    "This interpretation makes more sense from the outset. First we're directed toward our litmus test variable is_booking which turns out to have no explanatory power as we would expect. Good start. We end up with 9 features that make up 77.3% feature importances in our model. Let's test how these perform compared to the full model:"
   ]
  },
  {
   "cell_type": "code",
   "execution_count": 198,
   "metadata": {
    "collapsed": false
   },
   "outputs": [],
   "source": [
    "# Create reduced df based on important features:\n",
    "reduced_df = train_booked_df[['hotel_cluster','hotel_market','srch_destination_id','orig_destination_distance',\n",
    "                            'user_id','user_location_city','srch_week','ci_week','booking_window',\n",
    "                            'user_location_region']]"
   ]
  },
  {
   "cell_type": "code",
   "execution_count": 199,
   "metadata": {
    "collapsed": false
   },
   "outputs": [
    {
     "name": "stdout",
     "output_type": "stream",
     "text": [
      "<class 'pandas.core.frame.DataFrame'>\n",
      "RangeIndex: 409662 entries, 0 to 409661\n",
      "Data columns (total 10 columns):\n",
      "hotel_cluster                409662 non-null int64\n",
      "hotel_market                 409662 non-null int64\n",
      "srch_destination_id          409662 non-null int64\n",
      "orig_destination_distance    409662 non-null float64\n",
      "user_id                      409662 non-null int64\n",
      "user_location_city           409662 non-null int64\n",
      "srch_week                    409662 non-null int64\n",
      "ci_week                      409662 non-null int64\n",
      "booking_window               409662 non-null int64\n",
      "user_location_region         409662 non-null int64\n",
      "dtypes: float64(1), int64(9)\n",
      "memory usage: 31.3 MB\n"
     ]
    }
   ],
   "source": [
    "reduced_df.info()"
   ]
  },
  {
   "cell_type": "markdown",
   "metadata": {},
   "source": [
    "#### Full model fit:\n",
    "As a reminder of accuracy performance let's fit using all the features:"
   ]
  },
  {
   "cell_type": "code",
   "execution_count": 192,
   "metadata": {
    "collapsed": false
   },
   "outputs": [
    {
     "name": "stdout",
     "output_type": "stream",
     "text": [
      "('Training accuracy:', 0.99989828094802158)\n",
      "('Test accuracy:', 0.99989828094802158)\n"
     ]
    }
   ],
   "source": [
    "forest.fit(X, y)\n",
    "print('Training accuracy:', forest.score(X, y))\n",
    "print('Test accuracy:', forest.score(X, y))"
   ]
  },
  {
   "cell_type": "code",
   "execution_count": 37,
   "metadata": {
    "collapsed": false
   },
   "outputs": [
    {
     "name": "stdout",
     "output_type": "stream",
     "text": [
      "('Training accuracy:', 0.36848737829121009)\n",
      "('Test accuracy:', 0.36689734295094772)\n"
     ]
    }
   ],
   "source": [
    "# Fitting on 2 features:\n",
    "lr.fit(X_train_std[:, k2], y_train)\n",
    "print('Training accuracy:', lr.score(X_train_std[:, k2], y_train))\n",
    "print('Test accuracy:', lr.score(X_test_std[:, k2], y_test))"
   ]
  },
  {
   "cell_type": "code",
   "execution_count": 38,
   "metadata": {
    "collapsed": false
   },
   "outputs": [
    {
     "name": "stdout",
     "output_type": "stream",
     "text": [
      "('Training accuracy:', 0.36892981701344707)\n",
      "('Test accuracy:', 0.36805682691955621)\n"
     ]
    }
   ],
   "source": [
    "# Fitting on 4 features:\n",
    "lr.fit(X_train_std[:, k4], y_train)\n",
    "print('Training accuracy:', lr.score(X_train_std[:, k4], y_train))\n",
    "print('Test accuracy:', lr.score(X_test_std[:, k4], y_test))"
   ]
  },
  {
   "cell_type": "code",
   "execution_count": 44,
   "metadata": {
    "collapsed": false
   },
   "outputs": [
    {
     "name": "stdout",
     "output_type": "stream",
     "text": [
      "('Training accuracy:', 0.36831650540538069)\n",
      "('Test accuracy:', 0.36743436710482957)\n"
     ]
    }
   ],
   "source": [
    "# Fitting on 12 features:\n",
    "lr.fit(X_train_std[:, k12], y_train)\n",
    "print('Training accuracy:', lr.score(X_train_std[:, k12], y_train))\n",
    "print('Test accuracy:', lr.score(X_test_std[:, k12], y_test))"
   ]
  },
  {
   "cell_type": "markdown",
   "metadata": {},
   "source": [
    "### Modeling and Evaluation\n",
    "#### Evaluation Metrics\n",
    "#### Training/Testing Split Strategy\n",
    "#### Modeling: Classification Task\n",
    "Once again we are sampling way down to improve performance by taking approximately 40,000 records. We're using stratified shuffle split to easily sub-sample by our class proportions even though we don't really care about the test data since we'll be using stratified k-fold next. "
   ]
  },
  {
   "cell_type": "code",
   "execution_count": 168,
   "metadata": {
    "collapsed": false
   },
   "outputs": [
    {
     "name": "stdout",
     "output_type": "stream",
     "text": [
      "StratifiedShuffleSplit(labels=[91 59 ..., 59 42], n_iter=1, test_size=0.001, random_state=None)\n"
     ]
    }
   ],
   "source": [
    "cv_object = StratifiedShuffleSplit(y, n_iter=1, test_size=0.001, train_size=0.099)\n",
    "\n",
    "stdsc = StandardScaler()\n",
    "  \n",
    "# Now we\n",
    "for train_index, test_index in cv_object:\n",
    "    X_train_std, X_test_std = stdsc.fit_transform(X[train_index]), stdsc.fit_transform(X[test_index])\n",
    "    y_train, y_test = y[train_index], y[test_index]\n",
    "    \n",
    "print cv_object"
   ]
  },
  {
   "cell_type": "code",
   "execution_count": 188,
   "metadata": {
    "collapsed": false
   },
   "outputs": [
    {
     "name": "stdout",
     "output_type": "stream",
     "text": [
      "Accuracy 0.375546739904\n"
     ]
    }
   ],
   "source": [
    "# create variables we are more familiar with\n",
    "X, y = X_train_std, y_train\n",
    "yhat = np.zeros(y.shape) # we will fill this with predictions\n",
    "\n",
    "# create cross validation iterator\n",
    "cv = StratifiedKFold(y, n_folds=10)\n",
    "\n",
    "# get a handle to the classifier object, which defines the type\n",
    "# clf = RandomForestClassifier(max_depth=50, n_estimators=50, n_jobs=-1, oob_score=True)\n",
    "\n",
    "#clf = RandomForestClassifier(max_depth=5, n_estimators=50)\n",
    "# Accuracy 0.371072319202\n",
    "\n",
    "# clf = RandomForestClassifier(max_depth=10, n_estimators=50)\n",
    "# Accuracy 0.368578553616\n",
    "\n",
    "# clf = RandomForestClassifier(max_depth=25, n_estimators=50)\n",
    "# Accuracy 0.35710723192\n",
    "\n",
    "# clf = RandomForestClassifier(max_depth=50, n_estimators=50)\n",
    "# Accuracy 0.346882793017\n",
    "\n",
    "# clf = RandomForestClassifier(max_depth=3, n_estimators=50)\n",
    "# Accuracy 0.372817955112\n",
    "\n",
    "# clf = RandomForestClassifier(max_depth=3, n_estimators=5)\n",
    "# Accuracy 0.366583541147\n",
    "\n",
    "clf = RandomForestClassifier(max_depth=3, n_estimators=10)\n",
    "# Accuracy 0.375546739904\n",
    "\n",
    "# now iterate through and get predictions, saved to the correct row in yhat\n",
    "for train, test in cv:\n",
    "    clf.fit(X[train],y[train])\n",
    "    yhat[test] = clf.predict(X[test])\n",
    "    \n",
    "total_accuracy = mt.accuracy_score(y, yhat)\n",
    "print 'Accuracy', total_accuracy\n"
   ]
  },
  {
   "cell_type": "markdown",
   "metadata": {},
   "source": [
    "#### Analysis: Classification Task\n",
    "#### Statistics and Model Advantages: Classification Task\n",
    "#### Attribute Assessment: Classification Task\n",
    "#### Modeling: Regression Task\n",
    "#### Analysis: Regression Task\n",
    "#### Statistics and Model Advantages: Regression Task\n",
    "#### Attribute Assessment: Regression Task\n",
    "\n",
    "\n",
    "### Deployment\n",
    "\n",
    "### Exceptional Work"
   ]
  },
  {
   "cell_type": "code",
   "execution_count": null,
   "metadata": {
    "collapsed": true
   },
   "outputs": [],
   "source": []
  }
 ],
 "metadata": {
  "kernelspec": {
   "display_name": "Python 2",
   "language": "python",
   "name": "python2"
  },
  "language_info": {
   "codemirror_mode": {
    "name": "ipython",
    "version": 2
   },
   "file_extension": ".py",
   "mimetype": "text/x-python",
   "name": "python",
   "nbconvert_exporter": "python",
   "pygments_lexer": "ipython2",
   "version": "2.7.11"
  }
 },
 "nbformat": 4,
 "nbformat_minor": 0
}
