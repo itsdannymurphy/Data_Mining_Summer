{
 "cells": [
  {
   "cell_type": "markdown",
   "metadata": {},
   "source": [
    "## Lab 2: Classification\n",
    "#### Danny Murphy, Kerry Nakayama, Brandon Tarr\n",
    "\n",
    "#### Introduction\n",
    "We've followed a very natural data evolution from Lab 1 where we first started reducing the dataset to a more manageable and relevant size by focusing on bookings only and a five class (rather than 100 class) classification task. In the mini lab we fine-tuned our imputation and started experimenting with logistic regression and SVM classification given the attributes that Expedia provided as well as a handful we created ourselves. Neither of these methods were particularly accurate (~36%) at classifying the targeted hotel cluster so now we turn to three new algorithms to attempt to raise our classification accuracy: AdaBoostClassifier, ExtraTreesClassifier, and RandomForestClassifier. These will also be used to attempt a regression exercise on booking_window (one of our added features) to see if we can predict when a user's ideal search window might be for more targeted solicitation.\n",
    "#### Sources:\n",
    "We make extensive use of the code provided for the Grand Poobah Classification Notebook for the class and code from Sebastian Raschka book \"Python Machine Learning\"."
   ]
  },
  {
   "cell_type": "markdown",
   "metadata": {},
   "source": [
    "#### Data Preparation\n",
    "We will be conducting one classification task on the hotel cluster which has been the objective of this Kaggle dataset from the outset. This class variable is already in proper format as an integer representation of the five top hotel clusters [0]. All the other features are also in proper format, primarily as either integer representations of categorical variables [1:16] or as numeric continuous variables in either float or integer format [17:25].\n",
    "\n",
    "#### New Variables\n",
    "As a reminder, these variables were all added by our team to either contextualize the dates that Kaggle provided or to add more continuous variables in the hopes of adding more explanatory power to the model:\n",
    "\n",
    "ci_week (check in week) = week of the year (1-52)\n",
    "srch_week (week that the user's search was conducted) = week of the year (1-52)\n",
    "family_size = adults + children\n",
    "booking_window = check in date - search date (number of days booked prior to check in)\n",
    "length_of_stay = check out date - check in date"
   ]
  },
  {
   "cell_type": "code",
   "execution_count": 2,
   "metadata": {
    "collapsed": true
   },
   "outputs": [],
   "source": [
    "#Import required packages\n",
    "import pandas as pd\n",
    "import numpy as np\n",
    "import seaborn as sns\n",
    "import matplotlib.pyplot as plt\n",
    "%matplotlib inline\n"
   ]
  },
  {
   "cell_type": "code",
   "execution_count": 3,
   "metadata": {
    "collapsed": false
   },
   "outputs": [],
   "source": [
    "# Reduced, imputed, file.\n",
    "# Data can be downloaded here: https://www.dropbox.com/s/2vcqmorh3n3cm21/train_booked_top5_imputed.csv?dl=0\n",
    "train_booked_df = pd.read_csv('data/train_booked_top5_imputed.csv')\n",
    "train_booked_df.drop(['Unnamed: 0'], axis=1, inplace=True)"
   ]
  },
  {
   "cell_type": "code",
   "execution_count": 4,
   "metadata": {
    "collapsed": false
   },
   "outputs": [
    {
     "name": "stdout",
     "output_type": "stream",
     "text": [
      "<class 'pandas.core.frame.DataFrame'>\n",
      "RangeIndex: 409662 entries, 0 to 409661\n",
      "Data columns (total 26 columns):\n",
      "hotel_cluster                409662 non-null int64\n",
      "site_name                    409662 non-null int64\n",
      "posa_continent               409662 non-null int64\n",
      "user_location_country        409662 non-null int64\n",
      "user_location_region         409662 non-null int64\n",
      "user_location_city           409662 non-null int64\n",
      "user_id                      409662 non-null int64\n",
      "is_mobile                    409662 non-null int64\n",
      "is_package                   409662 non-null int64\n",
      "channel                      409662 non-null int64\n",
      "srch_destination_id          409662 non-null int64\n",
      "srch_destination_type_id     409662 non-null int64\n",
      "is_booking                   409662 non-null int64\n",
      "hotel_continent              409662 non-null int64\n",
      "hotel_country                409662 non-null int64\n",
      "hotel_market                 409662 non-null int64\n",
      "ci_week                      409662 non-null int64\n",
      "srch_week                    409662 non-null int64\n",
      "orig_destination_distance    409662 non-null float64\n",
      "family_size                  409662 non-null int64\n",
      "srch_adults_cnt              409662 non-null int64\n",
      "srch_children_cnt            409662 non-null int64\n",
      "srch_rm_cnt                  409662 non-null int64\n",
      "length_of_stay               409662 non-null int64\n",
      "booking_window               409662 non-null int64\n",
      "cnt                          409662 non-null int64\n",
      "dtypes: float64(1), int64(25)\n",
      "memory usage: 81.3 MB\n"
     ]
    }
   ],
   "source": [
    "train_booked_df.info()\n"
   ]
  },
  {
   "cell_type": "markdown",
   "metadata": {},
   "source": [
    "#### Dimensionality Reduction\n",
    "We've attempted both logistic regression and SVM methods of classification with limited success using all the data that made sense to use without really doing much formal analysis of the utility of each feature. Now we'll spend some time investigating which features we might be able to eliminate to make our models more simple using Sequential Backward Selection (SBS) and random forest techniques.\n",
    "#### Sequential Backward Selection\n",
    "Sebastian Raschka's book provides this SBS algorithm code:"
   ]
  },
  {
   "cell_type": "code",
   "execution_count": 6,
   "metadata": {
    "collapsed": true
   },
   "outputs": [],
   "source": [
    "from sklearn.base import clone\n",
    "from itertools import combinations\n",
    "from sklearn.cross_validation import train_test_split\n",
    "from sklearn.metrics import accuracy_score\n",
    "\n",
    "class SBS():\n",
    "    def __init__(self, estimator, k_features, scoring=accuracy_score,\n",
    "                 test_size=0.25, random_state=1):\n",
    "        self.scoring = scoring\n",
    "        self.estimator = clone(estimator)\n",
    "        self.k_features = k_features\n",
    "        self.test_size = test_size\n",
    "        self.random_state = random_state\n",
    "\n",
    "    def fit(self, X, y):\n",
    "        \n",
    "        X_train, X_test, y_train, y_test = \\\n",
    "            train_test_split(X, y, test_size=self.test_size,\n",
    "                             random_state=self.random_state)\n",
    "\n",
    "        dim = X_train.shape[1]\n",
    "        self.indices_ = tuple(range(dim))\n",
    "        self.subsets_ = [self.indices_]\n",
    "        score = self._calc_score(X_train, y_train, \n",
    "                                 X_test, y_test, self.indices_)\n",
    "        self.scores_ = [score]\n",
    "\n",
    "        while dim > self.k_features:\n",
    "            scores = []\n",
    "            subsets = []\n",
    "\n",
    "            for p in combinations(self.indices_, r=dim - 1):\n",
    "                score = self._calc_score(X_train, y_train, \n",
    "                                         X_test, y_test, p)\n",
    "                scores.append(score)\n",
    "                subsets.append(p)\n",
    "\n",
    "            best = np.argmax(scores)\n",
    "            self.indices_ = subsets[best]\n",
    "            self.subsets_.append(self.indices_)\n",
    "            dim -= 1\n",
    "\n",
    "            self.scores_.append(scores[best])\n",
    "        self.k_score_ = self.scores_[-1]\n",
    "\n",
    "        return self\n",
    "\n",
    "    def transform(self, X):\n",
    "        return X[:, self.indices_]\n",
    "\n",
    "    def _calc_score(self, X_train, y_train, X_test, y_test, indices):\n",
    "        self.estimator.fit(X_train[:, indices], y_train)\n",
    "        y_pred = self.estimator.predict(X_test[:, indices])\n",
    "        score = self.scoring(y_test, y_pred)\n",
    "        return score"
   ]
  },
  {
   "cell_type": "markdown",
   "metadata": {},
   "source": [
    "#### Sequential Backward Selection (Continued)\n",
    "We are using the Logistic Regression model that we determined to be most efficient while acheiving a consistent level of accuracy from the Mini-Lab. While we understand that this model didn't produce good results, the purpose here is to see if we can't maintain the same level of accuracy with fewer features."
   ]
  },
  {
   "cell_type": "code",
   "execution_count": 8,
   "metadata": {
    "collapsed": false
   },
   "outputs": [
    {
     "data": {
      "image/png": "[encoded data removed]",
      "text/plain": [
       "<matplotlib.figure.Figure at 0x116c22a10>"
      ]
     },
     "metadata": {},
     "output_type": "display_data"
    }
   ],
   "source": [
    "from sklearn.linear_model import LogisticRegression\n",
    "from sklearn import metrics as mt\n",
    "from sklearn.preprocessing import StandardScaler\n",
    "\n",
    "# we want to predict the X and y data as follows:\n",
    "# We've put the target as the first attribute to easily assign:\n",
    "X, y = train_booked_df.iloc[:, 1:].values, train_booked_df.iloc[:, 0].values\n",
    "\n",
    "X_train, X_test, y_train, y_test = \\\n",
    "        train_test_split(X, y, test_size=0.2)\n",
    "    \n",
    "stdsc = StandardScaler()\n",
    "\n",
    "#Standardize\n",
    "X_train_std = stdsc.fit_transform(X_train)\n",
    "X_test_std = stdsc.transform(X_test)\n",
    "\n",
    "lr = LogisticRegression(penalty='l2', C=0.05, class_weight=None, solver='lbfgs')\n",
    "\n",
    "# selecting features\n",
    "sbs = SBS(lr, k_features=1)\n",
    "sbs.fit(X_train_std, y_train)\n",
    "\n",
    "# plotting performance of feature subsets\n",
    "k_feat = [len(k) for k in sbs.subsets_]\n",
    "\n",
    "plt.plot(k_feat, sbs.scores_, marker='o')\n",
    "plt.ylim([0.2, 0.5])\n",
    "plt.ylabel('Accuracy')\n",
    "plt.xlabel('Number of features')\n",
    "plt.grid()\n",
    "plt.tight_layout()\n",
    "# plt.savefig('./sbs.png', dpi=300)\n",
    "plt.show()"
   ]
  },
  {
   "cell_type": "code",
   "execution_count": 45,
   "metadata": {
    "collapsed": false
   },
   "outputs": [
    {
     "name": "stdout",
     "output_type": "stream",
     "text": [
      "0.365652423321 25\n",
      "0.368935593717 24\n",
      "0.36938718221 23\n",
      "0.369777745231 22\n",
      "0.369936411458 21\n",
      "0.370131692969 20\n",
      "0.370217128629 19\n",
      "0.370424615234 18\n",
      "0.370424615234 17\n",
      "0.370424615234 16\n",
      "0.370400205046 15\n",
      "0.370400205046 14\n",
      "0.370400205046 13\n",
      "0.370229333724 12\n",
      "0.370180513346 11\n",
      "0.370009642025 10\n",
      "0.36980215542 9\n",
      "0.370082872591 8\n",
      "0.369936411458 7\n",
      "0.369887591081 6\n",
      "0.370070667497 5\n",
      "0.370534461084 4\n",
      "0.370339179574 3\n",
      "0.370034052213 2\n",
      "0.348394419831 1\n"
     ]
    }
   ],
   "source": [
    "# Display individual accuracy scores for each feature subset:\n",
    "for x in range(0, len(k_feat)):\n",
    "    print sbs.scores_[x], k_feat[x]"
   ]
  },
  {
   "cell_type": "markdown",
   "metadata": {},
   "source": [
    "#### 2 Features:\n",
    "We can see in the graph and the scores that a consistently high level of accuracy can be acheived with either 2 or 24 features which no perceivable dips in between. Let's look at the two features that can produce such a high level of accuracy by themselves:"
   ]
  },
  {
   "cell_type": "code",
   "execution_count": 52,
   "metadata": {
    "collapsed": false
   },
   "outputs": [
    {
     "name": "stdout",
     "output_type": "stream",
     "text": [
      "Index([u'hotel_continent', u'hotel_country'], dtype='object')\n"
     ]
    }
   ],
   "source": [
    "k2 = list(sbs.subsets_[23])\n",
    "print(train_booked_df.columns[1:][k2])"
   ]
  },
  {
   "cell_type": "markdown",
   "metadata": {},
   "source": [
    "#### 4 Features:\n",
    "What about the 4 features that produced the highest accuracy of 37.05%?"
   ]
  },
  {
   "cell_type": "code",
   "execution_count": 42,
   "metadata": {
    "collapsed": false
   },
   "outputs": [
    {
     "name": "stdout",
     "output_type": "stream",
     "text": [
      "Index([u'hotel_continent', u'hotel_country', u'orig_destination_distance',\n",
      "       u'length_of_stay'],\n",
      "      dtype='object')\n"
     ]
    }
   ],
   "source": [
    "k4 = list(sbs.subsets_[21])\n",
    "print(train_booked_df.columns[1:][k4])"
   ]
  },
  {
   "cell_type": "markdown",
   "metadata": {},
   "source": [
    "#### 12 Features:\n",
    "We don't necessarily want to cut out all of our features based on poor, albeit consistent performance with fewer variables using Logistic Regression. So let's look at 12 features and see if there are any consistencies when we move to Random Forest feature importance: "
   ]
  },
  {
   "cell_type": "code",
   "execution_count": 43,
   "metadata": {
    "collapsed": false
   },
   "outputs": [
    {
     "name": "stdout",
     "output_type": "stream",
     "text": [
      "Index([u'site_name', u'posa_continent', u'user_id',\n",
      "       u'srch_destination_type_id', u'hotel_continent', u'hotel_country',\n",
      "       u'ci_week', u'orig_destination_distance', u'family_size',\n",
      "       u'srch_children_cnt', u'length_of_stay', u'booking_window'],\n",
      "      dtype='object')\n"
     ]
    }
   ],
   "source": [
    "k12 = list(sbs.subsets_[13])\n",
    "print(train_booked_df.columns[1:][k12])"
   ]
  },
  {
   "cell_type": "markdown",
   "metadata": {},
   "source": [
    "#### Full model fit:\n",
    "As a reminder of accuracy performance let's fit using all the features:"
   ]
  },
  {
   "cell_type": "code",
   "execution_count": 30,
   "metadata": {
    "collapsed": false
   },
   "outputs": [
    {
     "name": "stdout",
     "output_type": "stream",
     "text": [
      "('Training accuracy:', 0.3645542506156001)\n",
      "('Test accuracy:', 0.36420001708713218)\n"
     ]
    }
   ],
   "source": [
    "lr.fit(X_train_std, y_train)\n",
    "print('Training accuracy:', lr.score(X_train_std, y_train))\n",
    "print('Test accuracy:', lr.score(X_test_std, y_test))"
   ]
  },
  {
   "cell_type": "code",
   "execution_count": 37,
   "metadata": {
    "collapsed": false
   },
   "outputs": [
    {
     "name": "stdout",
     "output_type": "stream",
     "text": [
      "('Training accuracy:', 0.36848737829121009)\n",
      "('Test accuracy:', 0.36689734295094772)\n"
     ]
    }
   ],
   "source": [
    "# Fitting on 2 features:\n",
    "lr.fit(X_train_std[:, k2], y_train)\n",
    "print('Training accuracy:', lr.score(X_train_std[:, k2], y_train))\n",
    "print('Test accuracy:', lr.score(X_test_std[:, k2], y_test))"
   ]
  },
  {
   "cell_type": "code",
   "execution_count": 38,
   "metadata": {
    "collapsed": false
   },
   "outputs": [
    {
     "name": "stdout",
     "output_type": "stream",
     "text": [
      "('Training accuracy:', 0.36892981701344707)\n",
      "('Test accuracy:', 0.36805682691955621)\n"
     ]
    }
   ],
   "source": [
    "# Fitting on 4 features:\n",
    "lr.fit(X_train_std[:, k4], y_train)\n",
    "print('Training accuracy:', lr.score(X_train_std[:, k4], y_train))\n",
    "print('Test accuracy:', lr.score(X_test_std[:, k4], y_test))"
   ]
  },
  {
   "cell_type": "code",
   "execution_count": 44,
   "metadata": {
    "collapsed": false
   },
   "outputs": [
    {
     "name": "stdout",
     "output_type": "stream",
     "text": [
      "('Training accuracy:', 0.36831650540538069)\n",
      "('Test accuracy:', 0.36743436710482957)\n"
     ]
    }
   ],
   "source": [
    "# Fitting on 12 features:\n",
    "lr.fit(X_train_std[:, k12], y_train)\n",
    "print('Training accuracy:', lr.score(X_train_std[:, k12], y_train))\n",
    "print('Test accuracy:', lr.score(X_test_std[:, k12], y_test))"
   ]
  },
  {
   "cell_type": "markdown",
   "metadata": {},
   "source": [
    "#### Sequential Backward Selection Conclusions:\n",
    "In the context of logistic regression which we're familiar with from the Mini-Lab, it doesn't seem to influence accuracy much beyond using the hotel continent, country, distance between user and hotel, and length of stay. One could even argue that just continent and country are enough although the test fit does improve with four features. We still don't want to reduce dimensionality based on a 36.8% accuracy rate but let's keep these feature in mind when selecting features with random forests next.\n",
    "#### Random Forest feature selection:\n",
    "Since we will be using a couple of variations of random forest algorithms in our classification task let's see what this algorithm's feature_importances function determines to have explanatory power:"
   ]
  },
  {
   "cell_type": "code",
   "execution_count": 46,
   "metadata": {
    "collapsed": false
   },
   "outputs": [
    {
     "name": "stdout",
     "output_type": "stream",
     "text": [
      " 1) hotel_market                   0.107868\n",
      " 2) srch_destination_id            0.102026\n",
      " 3) orig_destination_distance      0.097856\n",
      " 4) user_id                        0.093783\n",
      " 5) user_location_city             0.087022\n",
      " 6) srch_week                      0.074021\n",
      " 7) ci_week                        0.072787\n",
      " 8) booking_window                 0.071516\n",
      " 9) user_location_region           0.065946\n",
      "10) channel                        0.031236\n",
      "11) length_of_stay                 0.029644\n",
      "12) hotel_country                  0.025501\n",
      "13) hotel_continent                0.023168\n",
      "14) family_size                    0.020228\n",
      "15) srch_adults_cnt                0.016330\n",
      "16) srch_destination_type_id       0.016299\n",
      "17) user_location_country          0.013750\n",
      "18) site_name                      0.011180\n",
      "19) srch_children_cnt              0.011137\n",
      "20) is_mobile                      0.009880\n",
      "21) srch_rm_cnt                    0.008252\n",
      "22) posa_continent                 0.004415\n",
      "23) is_package                     0.004202\n",
      "24) cnt                            0.001951\n",
      "25) is_booking                     0.000000\n"
     ]
    },
    {
     "data": {
      "image/png": "[encoded data removed]",
      "text/plain": [
       "<matplotlib.figure.Figure at 0x1179e3d10>"
      ]
     },
     "metadata": {},
     "output_type": "display_data"
    }
   ],
   "source": [
    "from sklearn.ensemble import RandomForestClassifier\n",
    "\n",
    "feat_labels = train_booked_df.columns[1:]\n",
    "\n",
    "forest = RandomForestClassifier(n_estimators=50,\n",
    "                                random_state=0,\n",
    "                                n_jobs=-1)\n",
    "\n",
    "forest.fit(X, y)\n",
    "importances = forest.feature_importances_\n",
    "\n",
    "indices = np.argsort(importances)[::-1]\n",
    "\n",
    "for f in range(X.shape[1]):\n",
    "    print(\"%2d) %-*s %f\" % (f + 1, 30, \n",
    "                            feat_labels[indices[f]], \n",
    "                            importances[indices[f]]))\n",
    "\n",
    "plt.title('Feature Importances')\n",
    "plt.bar(range(X.shape[1]), \n",
    "        importances[indices],\n",
    "        color='lightblue', \n",
    "        align='center')\n",
    "\n",
    "plt.xticks(range(X.shape[1]), \n",
    "           feat_labels[indices], rotation=90)\n",
    "plt.xlim([-1, X.shape[1]])\n",
    "plt.tight_layout()\n",
    "#plt.savefig('./random_forest.png', dpi=300)\n",
    "plt.show()"
   ]
  },
  {
   "cell_type": "code",
   "execution_count": 14,
   "metadata": {
    "collapsed": false
   },
   "outputs": [
    {
     "name": "stdout",
     "output_type": "stream",
     "text": [
      "KNN accuracy 0.233946521767\n"
     ]
    }
   ],
   "source": [
    "# create variables we are more familiar with\n",
    "X, y = train_booked_df.iloc[:, 1:].values, train_booked_df.iloc[:, 0].values\n",
    "yhat = np.zeros(y.shape) # we will fill this with predictions\n",
    "\n",
    "# create cross validation iterator\n",
    "cv = StratifiedKFold(y, n_folds=10)\n",
    "\n",
    "# get a handle to the classifier object, which defines the type\n",
    "clf = KNeighborsClassifier(n_neighbors=3)\n",
    "\n",
    "# now iterate through and get predictions, saved to the correct row in yhat\n",
    "for train, test in cv:\n",
    "    clf.fit(X[train],y[train])\n",
    "    yhat[test] = clf.predict(X[test])\n",
    "\n",
    "total_accuracy = mt.accuracy_score(y, yhat)\n",
    "print 'KNN accuracy', total_accuracy"
   ]
  },
  {
   "cell_type": "code",
   "execution_count": 6,
   "metadata": {
    "collapsed": false
   },
   "outputs": [
    {
     "data": {
      "text/plain": [
       "array([  9.96469191e-01,   2.30864569e-03,   1.19635238e-03,\n",
       "         2.44270250e-05,   1.08992267e-06,   2.30603836e-07,\n",
       "         3.05043813e-08,   1.64981860e-08,   1.19911286e-08,\n",
       "         2.97305894e-09,   6.84399180e-10,   5.74472370e-10,\n",
       "         1.10655363e-10,   3.29038898e-11,   2.11866945e-11,\n",
       "         1.93911665e-11,   8.70510275e-12,   4.81714532e-12,\n",
       "         1.38650989e-12,   1.24308745e-12,   7.75002266e-13,\n",
       "         4.81270547e-13,   1.44042436e-13,   6.51527084e-38,\n",
       "         9.28801703e-45])"
      ]
     },
     "execution_count": 6,
     "metadata": {},
     "output_type": "execute_result"
    }
   ],
   "source": [
    "from sklearn.decomposition import PCA\n",
    "\n",
    "pca = PCA()\n",
    "X_train_pca = pca.fit_transform(X)\n",
    "pca.explained_variance_ratio_"
   ]
  },
  {
   "cell_type": "code",
   "execution_count": 9,
   "metadata": {
    "collapsed": false
   },
   "outputs": [
    {
     "data": {
      "image/png": "[encoded data removed]",
      "text/plain": [
       "<matplotlib.figure.Figure at 0x11919a7d0>"
      ]
     },
     "metadata": {},
     "output_type": "display_data"
    }
   ],
   "source": [
    "plt.bar(range(1, 26), pca.explained_variance_ratio_, alpha=0.5, align='center')\n",
    "plt.step(range(1, 26), np.cumsum(pca.explained_variance_ratio_), where='mid')\n",
    "plt.ylabel('Explained variance ratio')\n",
    "plt.xlabel('Principal components')\n",
    "plt.show()"
   ]
  },
  {
   "cell_type": "code",
   "execution_count": 10,
   "metadata": {
    "collapsed": false
   },
   "outputs": [
    {
     "name": "stdout",
     "output_type": "stream",
     "text": [
      "KNN, pipeline accuracy 0.211503629822\n"
     ]
    }
   ],
   "source": [
    "# setup pipeline to take PCA, then fit a KNN classifier\n",
    "clf_pipe = Pipeline(\n",
    "    [('PCA_Expedia',RandomizedPCA(n_components=1)),\n",
    "     ('CLF_Expedia',KNeighborsClassifier(n_neighbors=1))]\n",
    ")\n",
    "\n",
    "# now iterate through and get predictions, saved to the correct row in yhat\n",
    "for train, test in cv:\n",
    "    clf_pipe.fit(X[train],y[train])\n",
    "    yhat[test] = clf_pipe.predict(X[test])\n",
    "\n",
    "total_accuracy = mt.accuracy_score(y, yhat)\n",
    "print 'KNN, pipeline accuracy', total_accuracy"
   ]
  },
  {
   "cell_type": "code",
   "execution_count": 26,
   "metadata": {
    "collapsed": false
   },
   "outputs": [
    {
     "name": "stdout",
     "output_type": "stream",
     "text": [
      "Pipeline accuracy 0.397991514956\n"
     ]
    }
   ],
   "source": [
    "clf_pipe = Pipeline(\n",
    "    [('PCA',RandomizedPCA(n_components=5)),\n",
    "     ('CLF',RandomForestClassifier(max_depth=50, n_estimators=50, n_jobs=-1))]\n",
    ")\n",
    "\n",
    "# now iterate through and get predictions, saved to the correct row in yhat\n",
    "for train, test in cv:\n",
    "    clf_pipe.fit(X[train],y[train])\n",
    "    yhat[test] = clf_pipe.predict(X[test])\n",
    "    \n",
    "total_accuracy = mt.accuracy_score(y, yhat)\n",
    "print 'Pipeline accuracy', total_accuracy"
   ]
  },
  {
   "cell_type": "code",
   "execution_count": 27,
   "metadata": {
    "collapsed": false
   },
   "outputs": [
    {
     "name": "stdout",
     "output_type": "stream",
     "text": [
      "Accuracy 0.455187447213\n"
     ]
    }
   ],
   "source": [
    "clf = RandomForestClassifier(max_depth=50, n_estimators=50, n_jobs=-1, oob_score=True)\n",
    "\n",
    "# now iterate through and get predictions, saved to the correct row in yhat\n",
    "for train, test in cv:\n",
    "    clf.fit(X[train],y[train])\n",
    "    yhat[test] = clf.predict(X[test])\n",
    "    \n",
    "total_accuracy = mt.accuracy_score(y, yhat)\n",
    "print 'Accuracy', total_accuracy"
   ]
  },
  {
   "cell_type": "code",
   "execution_count": 17,
   "metadata": {
    "collapsed": false
   },
   "outputs": [
    {
     "data": {
      "image/png": "[encoded data removed]",
      "text/plain": [
       "<matplotlib.figure.Figure at 0x117071cd0>"
      ]
     },
     "metadata": {},
     "output_type": "display_data"
    }
   ],
   "source": [
    "from sklearn.learning_curve import learning_curve\n",
    "from sklearn.preprocessing import StandardScaler\n",
    "\n",
    "pipe_lr = Pipeline([('scl', StandardScaler()),\n",
    "                    ('clf', RandomForestClassifier(max_depth=50, n_estimators=50, n_jobs=-1, oob_score=True))])\n",
    "\n",
    "train_sizes, train_scores, test_scores =\\\n",
    "                learning_curve(estimator=pipe_lr,\n",
    "                               X=X,\n",
    "                               y=y,\n",
    "                               train_sizes=np.linspace(0.1, 1.0, 10),\n",
    "                               cv=10,\n",
    "                               n_jobs=1)\n",
    "\n",
    "train_mean = np.mean(train_scores, axis=1)\n",
    "train_std = np.std(train_scores, axis=1)\n",
    "test_mean = np.mean(test_scores, axis=1)\n",
    "test_std = np.std(test_scores, axis=1)\n",
    "\n",
    "plt.plot(train_sizes, train_mean,\n",
    "         color='blue', marker='o',\n",
    "         markersize=5, label='training accuracy')\n",
    "\n",
    "plt.fill_between(train_sizes,\n",
    "                 train_mean + train_std,\n",
    "                 train_mean - train_std,\n",
    "                 alpha=0.15, color='blue')\n",
    "\n",
    "plt.plot(train_sizes, test_mean,\n",
    "         color='green', linestyle='--',\n",
    "         marker='s', markersize=5,\n",
    "         label='validation accuracy')\n",
    "\n",
    "plt.fill_between(train_sizes,\n",
    "                 test_mean + test_std,\n",
    "                 test_mean - test_std,\n",
    "                 alpha=0.15, color='green')\n",
    "\n",
    "plt.grid()\n",
    "plt.xlabel('Number of training samples')\n",
    "plt.ylabel('Accuracy')\n",
    "plt.legend(loc='lower right')\n",
    "plt.ylim([0.8, 1.0])\n",
    "plt.tight_layout()\n",
    "# plt.savefig('./figures/learning_curve.png', dpi=300)\n",
    "plt.show()"
   ]
  },
  {
   "cell_type": "code",
   "execution_count": null,
   "metadata": {
    "collapsed": true
   },
   "outputs": [],
   "source": [
    "# now lets get access to the different properties of our RF\n",
    "\n",
    "print clf\n",
    "\n",
    "plt.barh(range(len(clf.feature_importances_)), clf.feature_importances_)\n",
    "plt.show()\n",
    "\n",
    "print 'Generalization score estimate from training data', clf.oob_score_"
   ]
  },
  {
   "cell_type": "code",
   "execution_count": 14,
   "metadata": {
    "collapsed": false
   },
   "outputs": [
    {
     "name": "stdout",
     "output_type": "stream",
     "text": [
      "0.368115655377\n",
      "0.377367175428\n",
      "0.423207403589\n",
      "0.447129574609\n"
     ]
    }
   ],
   "source": [
    "dt_stump = DecisionTreeClassifier(max_depth=1, min_samples_leaf=1)\n",
    "\n",
    "# lets train some trees\n",
    "clf_array = [\n",
    "    dt_stump,\n",
    "    AdaBoostClassifier(base_estimator=dt_stump,algorithm=\"SAMME.R\",\n",
    "                       learning_rate=0.5, n_estimators=50),\n",
    "    ExtraTreesClassifier(n_estimators=50,min_samples_split=1),\n",
    "    RandomForestClassifier(max_depth=50, n_estimators=50)\n",
    "    ]\n",
    "\n",
    "for clf in clf_array:\n",
    "    acc = cross_val_score(clf,X,y)\n",
    "    print acc.mean()"
   ]
  },
  {
   "cell_type": "code",
   "execution_count": null,
   "metadata": {
    "collapsed": true
   },
   "outputs": [],
   "source": [
    "from sklearn.neighbors import KNeighborsClassifier\n",
    "from sklearn.cross_validation import StratifiedKFold\n",
    "from sklearn import metrics as mt\n",
    "from sklearn.decomposition import RandomizedPCA \n",
    "from sklearn.pipeline import Pipeline\n",
    "from sklearn.ensemble import RandomForestClassifier\n",
    "from sklearn.ensemble import AdaBoostClassifier\n",
    "from sklearn.ensemble import ExtraTreesClassifier\n",
    "from sklearn.tree import DecisionTreeClassifier\n",
    "from sklearn.cross_validation import cross_val_score\n",
    "from sklearn.naive_bayes import GaussianNB"
   ]
  },
  {
   "cell_type": "code",
   "execution_count": null,
   "metadata": {
    "collapsed": true
   },
   "outputs": [],
   "source": []
  },
  {
   "cell_type": "code",
   "execution_count": 17,
   "metadata": {
    "collapsed": false
   },
   "outputs": [
    {
     "name": "stdout",
     "output_type": "stream",
     "text": [
      "Pipeline accuracy 0.337363485019\n"
     ]
    }
   ],
   "source": [
    "# setup pipeline to take PCA, then fit a different classifier\n",
    "clf_pipe = Pipeline(\n",
    "    [('PCA',RandomizedPCA(n_components=5)),\n",
    "     ('CLF',GaussianNB())]\n",
    ")\n",
    "clf = RandomForestClassifier(max_depth=50, n_estimators=150, n_jobs=-1, oob_score=True)\n",
    "# now iterate through and get predictions, saved to the correct row in yhat\n",
    "for train, test in cv:\n",
    "    clf_pipe.fit(X[train],y[train])\n",
    "    yhat[test] = clf_pipe.predict(X[test])\n",
    "\n",
    "total_accuracy = mt.accuracy_score(y, yhat)\n",
    "print 'Pipeline accuracy', total_accuracy"
   ]
  },
  {
   "cell_type": "code",
   "execution_count": 24,
   "metadata": {
    "collapsed": false
   },
   "outputs": [
    {
     "name": "stdout",
     "output_type": "stream",
     "text": [
      "Pipeline accuracy 0.190320312843\n"
     ]
    }
   ],
   "source": [
    "from sklearn.neighbors import NearestCentroid\n",
    "\n",
    "\n",
    "clf_pipe = Pipeline(\n",
    "    [('PCA',RandomizedPCA(n_components=5)),\n",
    "     ('CLF',NearestCentroid(metric='euclidean'))]\n",
    ")\n",
    "\n",
    "# now iterate through and get predictions, saved to the correct row in yhat\n",
    "for train, test in cv:\n",
    "    clf_pipe.fit(X[train],y[train])\n",
    "    yhat[test] = clf_pipe.predict(X[test])\n",
    "    \n",
    "total_accuracy = mt.accuracy_score(y, yhat)\n",
    "print 'Pipeline accuracy', total_accuracy"
   ]
  },
  {
   "cell_type": "code",
   "execution_count": 25,
   "metadata": {
    "collapsed": false
   },
   "outputs": [
    {
     "name": "stdout",
     "output_type": "stream",
     "text": [
      "Total Accuracy: 0.190320312843\n",
      "Number of infrequent faces: 0 with average recall of: nan\n",
      "Number of frequent faces: 5 with average precision of: 0.200373769513\n"
     ]
    },
    {
     "name": "stderr",
     "output_type": "stream",
     "text": [
      "/Users/danielmurphy/anaconda/lib/python2.7/site-packages/numpy/core/_methods.py:59: RuntimeWarning: Mean of empty slice.\n",
      "  warnings.warn(\"Mean of empty slice.\", RuntimeWarning)\n"
     ]
    }
   ],
   "source": [
    "from sklearn import metrics as mt\n",
    "\n",
    "freq_infreq_threshold = 40\n",
    "\n",
    "# get various measures of performance\n",
    "total_accuracy = mt.accuracy_score(y, yhat)\n",
    "\n",
    "prec_for_freq_classes = []\n",
    "recall_for_infreq_classes = []\n",
    "rec_tot = []\n",
    "prec_tot = []\n",
    "\n",
    "for cls in np.unique(y):\n",
    "    idx = (y==cls) # get classes\n",
    "    ytmp_actual = np.zeros(y.shape) # make binary class problem\n",
    "    ytmp_actual[idx] = 1 # set the instances for this specific class\n",
    "    \n",
    "    ytmp_predicted = np.zeros(y.shape) # binary prediction array\n",
    "    ytmp_predicted[yhat==cls] = 1\n",
    "    \n",
    "    num_in_class = sum(idx)\n",
    "    \n",
    "    rec = mt.recall_score(ytmp_actual, ytmp_predicted)\n",
    "    prec = mt.precision_score(ytmp_actual, ytmp_predicted)\n",
    "    rec_tot.append(rec)\n",
    "    prec_tot.append(prec)\n",
    "    \n",
    "    if num_in_class < freq_infreq_threshold:\n",
    "        recall_for_infreq_classes.append(rec)\n",
    "    elif num_in_class >= freq_infreq_threshold:\n",
    "        prec_for_freq_classes.append(prec)\n",
    "        \n",
    "print 'Total Accuracy:',total_accuracy\n",
    "print 'Number of infrequent faces:',len(recall_for_infreq_classes), 'with average recall of:', np.mean(recall_for_infreq_classes)\n",
    "print 'Number of frequent faces:',len(prec_for_freq_classes), 'with average precision of:',np.mean(prec_for_freq_classes)"
   ]
  },
  {
   "cell_type": "code",
   "execution_count": null,
   "metadata": {
    "collapsed": true
   },
   "outputs": [],
   "source": []
  }
 ],
 "metadata": {
  "kernelspec": {
   "display_name": "Python 2",
   "language": "python",
   "name": "python2"
  },
  "language_info": {
   "codemirror_mode": {
    "name": "ipython",
    "version": 2
   },
   "file_extension": ".py",
   "mimetype": "text/x-python",
   "name": "python",
   "nbconvert_exporter": "python",
   "pygments_lexer": "ipython2",
   "version": "2.7.11"
  }
 },
 "nbformat": 4,
 "nbformat_minor": 0
}
